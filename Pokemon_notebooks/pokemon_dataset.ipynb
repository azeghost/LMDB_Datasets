{
 "cells": [
  {
   "cell_type": "code",
   "execution_count": null,
   "metadata": {
    "colab": {
     "base_uri": "https://localhost:8080/",
     "height": 204
    },
    "colab_type": "code",
    "id": "qShWCYhaWHQx",
    "outputId": "1f18dfea-da6e-4127-9ea7-9abbc32566df"
   },
   "outputs": [],
   "source": [
    "!git clone https://github.com/kkahloots/Generative_Models.git # this is for loading git with correct brach\n",
    "%cd /content/Generative_Models/\n",
    "!git checkout lmdb"
   ]
  },
  {
   "cell_type": "code",
   "execution_count": null,
   "metadata": {
    "colab": {},
    "colab_type": "code",
    "id": "jpKbF1EVV7Nj",
    "scrolled": true
   },
   "outputs": [],
   "source": [
    "!pip -q install keras\n",
    "!pip -q install colorlog\n",
    "!pip -q install keras-radam"
   ]
  },
  {
   "cell_type": "code",
   "execution_count": null,
   "metadata": {
    "colab": {
     "base_uri": "https://localhost:8080/",
     "height": 34
    },
    "colab_type": "code",
    "id": "PmZXJ3CuV7Nw",
    "outputId": "28279cbb-6e45-4cf8-b0f6-646b8c552b64"
   },
   "outputs": [],
   "source": [
    "import os\n",
    "os.chdir('/content/Generative_Models/')\n",
    "print(os.getcwd())"
   ]
  },
  {
   "cell_type": "markdown",
   "metadata": {
    "colab_type": "text",
    "id": "OiXeRLQ6V7Nz"
   },
   "source": [
    "# Dataset loading"
   ]
  },
  {
   "cell_type": "code",
   "execution_count": null,
   "metadata": {
    "colab": {},
    "colab_type": "code",
    "id": "Du4xX-ROV7N0"
   },
   "outputs": [],
   "source": [
    "dataset_name='pokemon'"
   ]
  },
  {
   "cell_type": "code",
   "execution_count": null,
   "metadata": {
    "colab": {},
    "colab_type": "code",
    "id": "J1WFTkEWV7N4"
   },
   "outputs": [],
   "source": [
    "images_dir = '/content/Generative_Models/data/.pokemon/'\n",
    "validation_percentage = 30\n",
    "valid_format = 'png'"
   ]
  },
  {
   "cell_type": "code",
   "execution_count": null,
   "metadata": {
    "colab": {},
    "colab_type": "code",
    "id": "ToDH6SfQV7N6",
    "scrolled": true
   },
   "outputs": [],
   "source": [
    "from training.generators.file_image_generator import create_image_lists, get_generators"
   ]
  },
  {
   "cell_type": "code",
   "execution_count": null,
   "metadata": {
    "colab": {
     "base_uri": "https://localhost:8080/",
     "height": 85
    },
    "colab_type": "code",
    "id": "8cPsCGyIXL1f",
    "outputId": "578be4dd-7d93-48e7-d540-597f170e4768"
   },
   "outputs": [],
   "source": [
    "!ls -la /content/Generative_Models/data/.pokemon"
   ]
  },
  {
   "cell_type": "code",
   "execution_count": null,
   "metadata": {
    "colab": {
     "base_uri": "https://localhost:8080/",
     "height": 85
    },
    "colab_type": "code",
    "id": "H9r17PIDV7OA",
    "outputId": "448d58b6-6bab-49ac-80b9-cdc9e0ad0612"
   },
   "outputs": [],
   "source": [
    "image_lists = create_image_lists(\n",
    "    image_dir=images_dir, \n",
    "    validation_pct=validation_percentage, \n",
    "    valid_imgae_formats=valid_format,\n",
    "    verbose = 1\n",
    ")"
   ]
  },
  {
   "cell_type": "code",
   "execution_count": null,
   "metadata": {
    "colab": {},
    "colab_type": "code",
    "id": "xyXmrZlvV7OC",
    "scrolled": true
   },
   "outputs": [],
   "source": [
    "import numpy as np\n",
    "import lmdb\n",
    "import pickle\n",
    "import math\n",
    "from keras.preprocessing.image import Iterator, load_img, img_to_array, array_to_img"
   ]
  },
  {
   "cell_type": "code",
   "execution_count": null,
   "metadata": {
    "colab": {},
    "colab_type": "code",
    "id": "Rczoyv-mV7OF"
   },
   "outputs": [],
   "source": [
    "from utils.data_and_files.file_utils import get_file_path"
   ]
  },
  {
   "cell_type": "code",
   "execution_count": null,
   "metadata": {
    "colab": {},
    "colab_type": "code",
    "id": "m6h_uAIfMf1O"
   },
   "outputs": [],
   "source": [
    "class Pokemon_Image:\n",
    "    def __init__(self, image, label):\n",
    "        # Dimensions of image for reconstruction - not really necessary \n",
    "        # for this dataset, but some datasets may include images of \n",
    "        # varying sizes\n",
    "        self.channels = image.shape[2]\n",
    "        self.size = image.shape[:2]\n",
    "\n",
    "        self.image = image.tobytes()\n",
    "        self.label = label\n",
    "\n",
    "    def get_images(self):\n",
    "        \"\"\" Returns the image as a numpy array. \"\"\"\n",
    "        images = np.frombuffer(self.image, dtype=np.uint8)\n",
    "        return images.reshape(-1,*self.size, self.channels)\n",
    "\n",
    "    def get_image(self):\n",
    "        \"\"\" Returns the image as a numpy array. \"\"\"\n",
    "        images = np.frombuffer(self.image, dtype=np.uint8)\n",
    "        # print(images.shape)\n",
    "        return images.reshape(np.array(self.size, self.channels))"
   ]
  },
  {
   "cell_type": "code",
   "execution_count": null,
   "metadata": {
    "colab": {},
    "colab_type": "code",
    "id": "5YC7w15ZM_8Q"
   },
   "outputs": [],
   "source": [
    "def store_many_lmdb(filename, images, labels):\n",
    "    \"\"\" Stores an array of images to LMDB.\n",
    "        Parameters:\n",
    "        ---------------\n",
    "        images       images array, (N, 32, 32, 3) to be stored\n",
    "        labels       labels array, (N, 1) to be stored\n",
    "    \"\"\"\n",
    "    num_images = len(images)\n",
    "\n",
    "    map_size = num_images * images[0].nbytes * 10\n",
    "\n",
    "    # Create a new LMDB DB for all the images\n",
    "    #str(lmdb_dir / f\"{num_images}_lmdb\")\n",
    "    env = lmdb.open(filename, map_size=map_size, create= True)\n",
    "\n",
    "    # Same as before — but let's write all the images in a single transaction\n",
    "    with env.begin(write=True) as txn:\n",
    "        for i in range(num_images):\n",
    "            # All key-value pairs need to be Strings\n",
    "            value = Pokemon_Image(images[i], labels[i])\n",
    "            key = f\"{i:08}\"\n",
    "            txn.put(key.encode(\"ascii\"), pickle.dumps(value))\n",
    "    env.close()"
   ]
  },
  {
   "cell_type": "code",
   "execution_count": null,
   "metadata": {
    "colab": {},
    "colab_type": "code",
    "id": "qfKHdegukc5-"
   },
   "outputs": [],
   "source": [
    "import sys\n",
    "def store_single_lmdb(filename, wrapper , index, num_images):\n",
    "    \"\"\" Stores a wrapper to LMDB.\n",
    "    \"\"\"\n",
    "\n",
    "    map_size = wrapper.get_image().nbytes * num_images + sys.getsizeof(wrapper.label) * 2 * num_images\n",
    "    env = lmdb.open(filename, map_size=map_size, create= True)\n",
    "\n",
    "    # Same as before — but let's write all the images in a single transaction\n",
    "    with env.begin(write=True) as txn:\n",
    "          # All key-value pairs need to be Strings\n",
    "          value = wrapper\n",
    "          key = f\"{index:08}\"\n",
    "          txn.put(key.encode(\"ascii\"), pickle.dumps(value))\n",
    "    env.close()"
   ]
  },
  {
   "cell_type": "markdown",
   "metadata": {
    "colab_type": "text",
    "id": "4HzorHfpOwXM"
   },
   "source": [
    "Test 1"
   ]
  },
  {
   "cell_type": "code",
   "execution_count": null,
   "metadata": {
    "colab": {},
    "colab_type": "code",
    "id": "HSRi5L-FVtOi"
   },
   "outputs": [],
   "source": [
    "!rm -rf /content/LMDB/\n",
    "!mkdir /content/LMDB/"
   ]
  },
  {
   "cell_type": "code",
   "execution_count": null,
   "metadata": {
    "colab": {},
    "colab_type": "code",
    "id": "FH24Hqz8OuR9"
   },
   "outputs": [],
   "source": [
    "lmdb_dir = '/content/LMDB'\n",
    "\n",
    "category='training'\n",
    "\n",
    "# print('num_class',num_class)\n",
    "image_dir=images_dir\n",
    "\n",
    "target_size=None\n",
    "color_mode='rgb'\n",
    "# save_to_dir=None,\n",
    "save_prefix=''\n",
    "save_format='png'\n",
    "\n",
    "def store_lmdb(image_lists, image_dir, \n",
    "               lmdb_dir = '/content/LMDB',category='training', target_size=None,\n",
    "               color_mode='rgb', save_prefix='', save_format='png'):\n",
    "  classes = list(image_lists.keys())\n",
    "  num_class = len(classes)\n",
    "  class2id = dict(zip(classes, range(len(classes))))\n",
    "  id2class = dict((v, k) for k, v in class2id.items())\n",
    " \n",
    "  y = None\n",
    "  X = None\n",
    "\n",
    "  for label_name in classes:\n",
    "    num_images = len(image_lists[label_name][category])\n",
    "    for index, _ in enumerate(image_lists[label_name][category]):\n",
    "        img_path = get_file_path(image_lists,\n",
    "                                  label_name,\n",
    "                                  index,\n",
    "                                  image_dir,\n",
    "                                  category)\n",
    "        img = img_to_array(\n",
    "                        load_img(\n",
    "                        img_path,\n",
    "                        grayscale=color_mode=='grayscale',\n",
    "                        target_size=target_size\n",
    "                        )\n",
    "                    )\n",
    "        name, _ = os.path.splitext(img_path)\n",
    "        vid_img_arr = name.split(sep=os.sep)[-1:]\n",
    "        y = [np.array(vid_img_arr)]\n",
    "        X = np.array(img)\n",
    "        # print(X.shape)\n",
    "        # print(X.shape[2])\n",
    "        # print(X.shape[:2])\n",
    "        \n",
    "        name =  lmdb_dir+os.sep+'_{}'.format(category)\n",
    "        pokemon_Image = Pokemon_Image(X, y)\n",
    "\n",
    "        store_single_lmdb(index = index, filename=name, wrapper = pokemon_Image, num_images = num_images)\n",
    "        \n",
    "\n",
    "        # if (y is None):\n",
    "        #       y = [np.array(vid_img_arr)]\n",
    "        # else:\n",
    "        #       y = np.append(y, [np.array(vid_img_arr)], 0)\n",
    "        # if (X is None):\n",
    "        #       X = [np.array(img)]\n",
    "        # else:\n",
    "        #       X = np.append(X, [img], 0)\n",
    "        # if (index+1) % 200 == 0 and index != 0:\n",
    "        #     print('Loaded {} 200 pictures'.format((index+1) / 200))\n",
    "        #     print('Saving images as LMDB file')\n",
    "        #     store_many_lmdb(lmdb_dir+os.sep+'_{}'.format((index+1) / 200), images = X, labels = y)\n",
    "        #     y = None\n",
    "        #     X = None\n",
    "        # elif len(image_lists[label_name][category])-1 == index:\n",
    "        #     print('Loaded last {} pictures'.format(math.ceil((index+1) / 200)))\n",
    "        #     print('Saving images as LMDB file')\n",
    "        #     store_many_lmdb(lmdb_dir+os.sep+'_{}'.format(float(math.ceil((index+1) / 200))), images = X, labels = y)\n",
    "        #     y = None\n",
    "        #     X = None\n",
    "            \n"
   ]
  },
  {
   "cell_type": "code",
   "execution_count": null,
   "metadata": {
    "colab": {
     "base_uri": "https://localhost:8080/",
     "height": 272
    },
    "colab_type": "code",
    "id": "OlqEQB6WJ1EN",
    "outputId": "7c366a92-86c2-47f8-e11d-94bfe8532515"
   },
   "outputs": [],
   "source": [
    "store_lmdb(image_lists, image_dir)"
   ]
  },
  {
   "cell_type": "code",
   "execution_count": null,
   "metadata": {
    "colab": {},
    "colab_type": "code",
    "id": "_6dRUcRgOYe-"
   },
   "outputs": [],
   "source": [
    "# In  case we want each label to be a key then\n",
    "\n",
    "def store_many_lmdb_labelaskey(filename, images, labels):\n",
    "    \"\"\" Stores an array of images to LMDB.\n",
    "        Parameters:\n",
    "        ---------------\n",
    "        images       images array, (N, 32, 32, 3) to be stored\n",
    "        labels       labels array, (N, 1) to be stored\n",
    "    \"\"\"\n",
    "    num_images = len(images)\n",
    "\n",
    "    map_size = num_images * images[0].nbytes * 10\n",
    "\n",
    "    # Create a new LMDB DB for all the images\n",
    "    #str(lmdb_dir / f\"{num_images}_lmdb\")\n",
    "    env = lmdb.open(filename, map_size=map_size)\n",
    "\n",
    "    # Same as before — but let's write all the images in a single transaction\n",
    "    with env.begin(write=True) as txn:\n",
    "        for i in range(num_images):\n",
    "            # All key-value pairs need to be Strings\n",
    "            value = Pokemon_Image(images[i], labels[i])\n",
    "            key = labels[i]\n",
    "            txn.put(key.encode(\"ascii\"), pickle.dumps(value))\n",
    "    env.close()\n"
   ]
  },
  {
   "cell_type": "code",
   "execution_count": null,
   "metadata": {
    "colab": {},
    "colab_type": "code",
    "id": "JcnCHtsakZd2"
   },
   "outputs": [],
   "source": []
  },
  {
   "cell_type": "code",
   "execution_count": null,
   "metadata": {
    "colab": {},
    "colab_type": "code",
    "id": "0Yis1ehVNHAO"
   },
   "outputs": [],
   "source": [
    "import math\n",
    "def read_many_lmdb(filename, num_images):\n",
    "    \"\"\" Reads image from LMDB.\n",
    "        Parameters:\n",
    "        ---------------\n",
    "        num_images   number of images to read\n",
    "\n",
    "        Returns:\n",
    "        ----------\n",
    "        images      images array, (N, 32, 32, 3) to be stored\n",
    "        labels      associated meta data, int label (N, 1)\n",
    "    \"\"\"\n",
    "    images, labels = [], []\n",
    "    #str(lmdb_dir / f\"{num_images}_lmdb\")\n",
    "    for folder_indx in  range(math.ceil(num_images/200)):\n",
    "      env = lmdb.open(filename+os.sep+'_{}'.format(float(folder_indx+1)), readonly=True)\n",
    "      print(folder_indx)\n",
    "      # Start a new read transaction\n",
    "      with env.begin() as txn:\n",
    "          # Read all images in one single transaction, with one lock\n",
    "          # We could split this up into multiple transactions if needed\n",
    "          if num_images- folder_indx*200 >200:\n",
    "            max_index = 200 \n",
    "          else:\n",
    "            max_index = num_images - folder_indx*200\n",
    "          \n",
    "          for image_id in range(0,max_index):\n",
    "              data = txn.get(f\"{image_id:08}\".encode(\"ascii\"))\n",
    "              # Remember that it's a CIFAR_Image object \n",
    "              # that is stored as the value\n",
    "              pokemon_image = pickle.loads(data)\n",
    "              # Retrieve the relevant bits\n",
    "              images.append(pokemon_image.get_images())\n",
    "              labels.append(pokemon_image.label)\n",
    "      env.close()\n",
    "    return images, labels"
   ]
  },
  {
   "cell_type": "markdown",
   "metadata": {
    "colab_type": "text",
    "id": "rvyZA8VHVzgz"
   },
   "source": [
    "Test 2 Reading data\n"
   ]
  },
  {
   "cell_type": "code",
   "execution_count": null,
   "metadata": {
    "colab": {},
    "colab_type": "code",
    "id": "PnVO4LsJV1vZ"
   },
   "outputs": [],
   "source": [
    "X, y = read_many_lmdb(lmdb_dir, 809)"
   ]
  },
  {
   "cell_type": "code",
   "execution_count": null,
   "metadata": {
    "colab": {},
    "colab_type": "code",
    "id": "BzHlQeEku3Jm"
   },
   "outputs": [],
   "source": [
    "print()"
   ]
  },
  {
   "cell_type": "code",
   "execution_count": null,
   "metadata": {
    "colab": {},
    "colab_type": "code",
    "id": "yUDiMvlmV7OI"
   },
   "outputs": [],
   "source": [
    "def store_lmdb(\n",
    "             lmdb_name,\n",
    "             image_lists,\n",
    "             category, \n",
    "             image_dir,\n",
    "             target_size=None,\n",
    "             color_mode='rgb',\n",
    "             save_to_dir=None,\n",
    "             save_prefix='',\n",
    "             save_format='png'\n",
    "):\n",
    "\n",
    "    classes = list(image_lists.keys())\n",
    "    num_class = len(classes)\n",
    "\n",
    "    class2id = dict(zip(classes, range(len(classes))))\n",
    "    id2class = dict((v, k) for k, v in class2id.items())\n",
    "\n",
    "    if color_mode not in {'rgb', 'grayscale'}:\n",
    "        raise ValueError('Invalid color mode:', color_mode, '; expected \"rgb\" or \"grayscale\".')\n",
    "\n",
    "    lmdb_env = lmdb.open(lmdb_name)\n",
    "    # lmdb_db = lmdb_env.begin(write=True)\n",
    "    # print(classes)\n",
    "    with lmdb_env.begin(write=True) as lmdb_db:\n",
    "      for label_name in classes:\n",
    "          for j, _ in enumerate(image_lists[label_name][category]):\n",
    "              img_path = get_file_path(image_lists,\n",
    "                                        label_name,\n",
    "                                        j,\n",
    "                                        image_dir,\n",
    "                                        category)\n",
    "              img = img_to_array(\n",
    "                              load_img(\n",
    "                              img_path,\n",
    "                              grayscale=color_mode=='grayscale',\n",
    "                              target_size=target_size\n",
    "                              )\n",
    "\n",
    "                          )\n",
    "              \n",
    "              str_id.encode('ascii'), datum.SerializeToString()\n",
    "              X.tobytes()\n",
    "\n",
    "              \n",
    "              lmdb_db.put(label_name.encode(), img, append=True, overwrite=False)      \n",
    "    lmdb_env.close()"
   ]
  },
  {
   "cell_type": "code",
   "execution_count": null,
   "metadata": {
    "colab": {
     "base_uri": "https://localhost:8080/",
     "height": 163
    },
    "colab_type": "code",
    "id": "mcCwKY2uV7OM",
    "outputId": "1a40fec8-1082-4de9-aef2-f3e89888483d"
   },
   "outputs": [],
   "source": [
    "store_lmdb(lmdb_name='pokemon2', image_lists=imgs_list, category='training', image_dir=images_dir)"
   ]
  },
  {
   "cell_type": "code",
   "execution_count": null,
   "metadata": {
    "colab": {},
    "colab_type": "code",
    "id": "psebCwrqV7OO"
   },
   "outputs": [],
   "source": [
    "lmdb_env = lmdb.open('pokemon2')\n",
    "with lmdb_env.begin() as lmdb_txn:\n",
    "    with lmdb_txn.cursor() as lmdb_cursor:\n",
    "        for key, value in lmdb_cursor:  \n",
    "           print (key)\n",
    "           print (value)"
   ]
  },
  {
   "cell_type": "code",
   "execution_count": null,
   "metadata": {
    "colab": {},
    "colab_type": "code",
    "id": "cj3rJJBoV7OU"
   },
   "outputs": [],
   "source": [
    "keys = [key for key, _ in lmdb_db.cursor() ]\n",
    "values = [value for _, value in lmdb_db.cursor() ]"
   ]
  },
  {
   "cell_type": "code",
   "execution_count": null,
   "metadata": {
    "colab": {},
    "colab_type": "code",
    "id": "SXuxj38fnoX8"
   },
   "outputs": [],
   "source": [
    "print(np.fromstring(values))"
   ]
  },
  {
   "cell_type": "code",
   "execution_count": null,
   "metadata": {
    "colab": {},
    "colab_type": "code",
    "id": "f7vkfj8WaqRr"
   },
   "outputs": [],
   "source": [
    "import numpy as np\n",
    "import lmdb\n",
    "\n",
    "def write_lmdb(filename):\n",
    "    print ('Write lmdb')\n",
    "\n",
    "    lmdb_env = lmdb.open(filename, map_size=int(1e9))\n",
    "\n",
    "    n_samples= 2\n",
    "    X= (255*np.random.rand(n_samples,3,4,3)).astype(np.uint8)\n",
    "    y= np.random.rand(n_samples).astype(np.float32)\n",
    "\n",
    "    for i in range(n_samples):\n",
    "        with lmdb_env.begin(write=True) as lmdb_txn:\n",
    "            lmdb_txn.put('X_'+str(i), X)\n",
    "            lmdb_txn.put('y_'+str(i), y)\n",
    "\n",
    "            print ('X:',X)\n",
    "            print ('y:',y)\n",
    "\n",
    "def read_lmdb(filename):\n",
    "    print ('Read lmdb')\n",
    "\n",
    "    lmdb_env = lmdb.open(filename)\n",
    "    lmdb_txn = lmdb_env.begin()\n",
    "    lmdb_cursor = lmdb_txn.cursor()\n",
    "\n",
    "    n_samples=0\n",
    "    with lmdb_env.begin() as lmdb_txn:\n",
    "        with lmdb_txn.cursor() as lmdb_cursor:\n",
    "            for key, value in lmdb_cursor:  \n",
    "                print (key)\n",
    "                if('X' in key):\n",
    "                    print (np.fromstring(value, dtype=np.uint8))\n",
    "                if('y' in key):\n",
    "                    print (np.fromstring(value, dtype=np.float32))\n",
    "\n",
    "                n_samples=n_samples+1\n",
    "\n",
    "    print ('n_samples',n_samples)\n",
    "\n",
    "write_lmdb('temp.db')\n",
    "read_lmdb('temp.db')"
   ]
  }
 ],
 "metadata": {
  "colab": {
   "collapsed_sections": [],
   "name": "pokemon_dataset.ipynb",
   "provenance": [],
   "toc_visible": true
  },
  "kernelspec": {
   "display_name": "Python 3",
   "language": "python",
   "name": "python3"
  },
  "language_info": {
   "codemirror_mode": {
    "name": "ipython",
    "version": 3
   },
   "file_extension": ".py",
   "mimetype": "text/x-python",
   "name": "python",
   "nbconvert_exporter": "python",
   "pygments_lexer": "ipython3",
   "version": "3.8.3"
  }
 },
 "nbformat": 4,
 "nbformat_minor": 1
}
