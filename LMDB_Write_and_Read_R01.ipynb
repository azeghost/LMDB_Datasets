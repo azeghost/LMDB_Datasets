{
  "nbformat": 4,
  "nbformat_minor": 0,
  "metadata": {
    "colab": {
      "name": "LMDB Write and Read - R01.ipynb",
      "provenance": [],
      "collapsed_sections": [],
      "authorship_tag": "ABX9TyOtv0l6nD9FxOksbQWakodE",
      "include_colab_link": true
    },
    "kernelspec": {
      "name": "python3",
      "display_name": "Python 3"
    }
  },
  "cells": [
    {
      "cell_type": "markdown",
      "metadata": {
        "id": "view-in-github",
        "colab_type": "text"
      },
      "source": [
        "<a href=\"https://colab.research.google.com/github/azeghost/LMDB_Datasets/blob/master/LMDB_Write_and_Read_R01.ipynb\" target=\"_parent\"><img src=\"https://colab.research.google.com/assets/colab-badge.svg\" alt=\"Open In Colab\"/></a>"
      ]
    },
    {
      "cell_type": "markdown",
      "metadata": {
        "id": "X_r_nWScSF_-",
        "colab_type": "text"
      },
      "source": [
        "***Clonning Repo***"
      ]
    },
    {
      "cell_type": "code",
      "metadata": {
        "id": "ku8LIACOSJyV",
        "colab_type": "code",
        "colab": {
          "base_uri": "https://localhost:8080/",
          "height": 134
        },
        "outputId": "1f6280ce-5d1b-4a03-ff82-c827c6db3ca2"
      },
      "source": [
        "!mkdir ./temp\n",
        "!git clone 'https://github.com/azeghost/LMDB_Datasets.git'"
      ],
      "execution_count": 149,
      "outputs": [
        {
          "output_type": "stream",
          "text": [
            "mkdir: cannot create directory ‘./temp’: File exists\n",
            "Cloning into 'LMDB_Datasets'...\n",
            "remote: Enumerating objects: 5, done.\u001b[K\n",
            "remote: Counting objects: 100% (5/5), done.\u001b[K\n",
            "remote: Compressing objects: 100% (4/4), done.\u001b[K\n",
            "remote: Total 5 (delta 0), reused 5 (delta 0), pack-reused 0\n",
            "Unpacking objects: 100% (5/5), done.\n"
          ],
          "name": "stdout"
        }
      ]
    },
    {
      "cell_type": "markdown",
      "metadata": {
        "id": "vMf1pH7vLxQX",
        "colab_type": "text"
      },
      "source": [
        "**Installing Caffe Lirary (CPU or GPU)**"
      ]
    },
    {
      "cell_type": "code",
      "metadata": {
        "id": "jemtGHnoG1UT",
        "colab_type": "code",
        "colab": {}
      },
      "source": [
        "#Caffe Installation:\n",
        "\n",
        "#CPU\n",
        "!apt install caffe-cpu\n",
        "\n",
        "#GPU\n",
        "!apt install caffe-gpu"
      ],
      "execution_count": 0,
      "outputs": []
    },
    {
      "cell_type": "markdown",
      "metadata": {
        "id": "NB3fbQn-MAVK",
        "colab_type": "text"
      },
      "source": [
        "**Required Packages Importing**"
      ]
    },
    {
      "cell_type": "code",
      "metadata": {
        "id": "Xo6AI1XnMEQi",
        "colab_type": "code",
        "colab": {}
      },
      "source": [
        "#Packages Importing:\n",
        "import numpy as np\n",
        "import lmdb\n",
        "import caffe"
      ],
      "execution_count": 0,
      "outputs": []
    },
    {
      "cell_type": "markdown",
      "metadata": {
        "id": "pb2DFM74MHjK",
        "colab_type": "text"
      },
      "source": [
        "**From Numpy Array to LMDB**"
      ]
    },
    {
      "cell_type": "code",
      "metadata": {
        "id": "P1MUn4_zn_e3",
        "colab_type": "code",
        "colab": {}
      },
      "source": [
        "#Write Function:\n",
        "def writeArray(file_name, Data, Label, index):\n",
        "  \"\"\"Creates LMDB Folder from for a given folder.\n",
        "\n",
        "  # Arguments\n",
        "      file_name: string name for LMDB folder to be created. \n",
        "      Data: data to be converted in Numpy Array format.\n",
        "      Labels: label for the data in Numpy Array format.\n",
        "      index: the index to be assigned for the data in LMDB file.\n",
        "\n",
        "  # Returns\n",
        "      True: if LMDB folder was created\n",
        "      None: otherwise\n",
        "  \"\"\"\n",
        "\n",
        "  X = Data.copy()\n",
        "  y = Label.copy()\n",
        "\n",
        "  map_size = X.nbytes * 10\n",
        "  channels = X.shape[0]\n",
        "  height = X.shape[1]\n",
        "  width =  X.shape[2]\n",
        "  idx = index\n",
        "\n",
        "  env = lmdb.open(file_name, map_size=map_size)\n",
        "\n",
        "  with env.begin(write=True) as txn:\n",
        "    # txn is a Transaction object\n",
        "    datum = caffe.proto.caffe_pb2.Datum()\n",
        "    datum.channels = channels\n",
        "    datum.height = height\n",
        "    datum.width = width\n",
        "    datum.data = X.tobytes()  # or .tostring() if numpy < 1.9\n",
        "    datum.label = int(y)\n",
        "\n",
        "    str_id = '{:08}'.format(idx)\n",
        "    print(str_id)\n",
        "\n",
        "    # The encode is only essential in Python 3\n",
        "    txn.put(str_id.encode('ascii'), datum.SerializeToString())\n",
        "\n",
        "    return True"
      ],
      "execution_count": 0,
      "outputs": []
    },
    {
      "cell_type": "markdown",
      "metadata": {
        "id": "UBoALboTMdR9",
        "colab_type": "text"
      },
      "source": [
        "**From LMDB to Numpy Array**"
      ]
    },
    {
      "cell_type": "code",
      "metadata": {
        "id": "VgyftCUyt72r",
        "colab_type": "code",
        "colab": {}
      },
      "source": [
        "#Read Function:\n",
        "def readArray(file_name, index_range = (0,0)):\n",
        "  \"\"\"Reads LMDB files from in a given folder and converts them to Numpy Arrays.\n",
        "\n",
        "  # Arguments\n",
        "      file_name: string name for LMDB folder contains LMDB files to be converted t Numpy Arrays format.\n",
        "      index_range: tuple contains range of data to be parsed to Numpy Array in LMDB file.\n",
        "\n",
        "  # Returns\n",
        "      x: Numpy Array for the resulted data.\n",
        "      y: Numpy Array for the resulted labels.\n",
        "  \"\"\"\n",
        "\n",
        "  cursor_len = 0\n",
        "  x, y = [], []\n",
        "  lower = index_range[0]\n",
        "  upper = index_range[1]\n",
        "\n",
        "  env = lmdb.open(file_name, readonly=True)\n",
        "  with env.begin() as txn:\n",
        "    cursor = txn.cursor()\n",
        "    cursor_len = len(list(cursor))\n",
        "\n",
        "    for i in range(lower, upper+1):\n",
        "      idx = '{:08}'.format(i).encode('ascii')\n",
        "      raw_datum = txn.get(idx)\n",
        "      datum = caffe.proto.caffe_pb2.Datum()\n",
        "      datum.ParseFromString(raw_datum)\n",
        "\n",
        "      flat_x = np.fromstring(datum.data, dtype=np.uint8)\n",
        "      x.append(flat_x.reshape(datum.channels, datum.height, datum.width))\n",
        "      y.append(datum.label)\n",
        "\n",
        "  x, y = np.asarray(x), np.asarray(y)\n",
        "\n",
        "  return x, y"
      ],
      "execution_count": 0,
      "outputs": []
    },
    {
      "cell_type": "markdown",
      "metadata": {
        "id": "dQx5dMgzNe0M",
        "colab_type": "text"
      },
      "source": [
        "**Return LMDB File keys**"
      ]
    },
    {
      "cell_type": "code",
      "metadata": {
        "id": "zoMAQmj4NhVT",
        "colab_type": "code",
        "colab": {}
      },
      "source": [
        "#LMDB keys function\n",
        "def lmdbKeys(file_name):\n",
        "  \"\"\"Reads LMDB file keys.\n",
        "\n",
        "  # Arguments\n",
        "      file_name: string name for LMDB folder contains LMDB files to return back the keys from.\n",
        "\n",
        "  # Returns\n",
        "      keys: list of LMDB file keys.\n",
        "  \"\"\"\n",
        "  env = lmdb.open(file_name, readonly=True)\n",
        "  keys = []\n",
        "  with env.begin() as txn:\n",
        "    cursor = txn.cursor()\n",
        "    print(crusor)\n",
        "    for key, value in cursor:\n",
        "      keys.append(key)\n",
        "\n",
        "  return keys"
      ],
      "execution_count": 0,
      "outputs": []
    },
    {
      "cell_type": "markdown",
      "metadata": {
        "id": "oQVdgIC3Qp3Z",
        "colab_type": "text"
      },
      "source": [
        "*Below loop for looping and reading the images, to be modified to match the \"create_image_lists\" function*"
      ]
    },
    {
      "cell_type": "code",
      "metadata": {
        "colab_type": "code",
        "outputId": "5dde2c9b-6f5a-4684-8780-926dfd4404f6",
        "id": "4RFQgf91oUzF",
        "colab": {
          "base_uri": "https://localhost:8080/",
          "height": 118
        }
      },
      "source": [
        "import cv2\n",
        "import glob\n",
        "\n",
        "im = glob.glob('/content/Pokemon/*.png')\n",
        "file_name = 'TEST_LMDB'\n",
        "for idx, img in enumerate(im):\n",
        "  i = cv2.imread(img, -1)\n",
        "  i = np.asarray(i)\n",
        "  print(i.shape)\n",
        "  writeArray(file_name, i, np.asarray([idx]), idx)"
      ],
      "execution_count": 82,
      "outputs": [
        {
          "output_type": "stream",
          "text": [
            "(400, 400, 4)\n",
            "00000000\n",
            "(400, 400, 4)\n",
            "00000001\n",
            "(400, 400, 4)\n",
            "00000002\n"
          ],
          "name": "stdout"
        }
      ]
    }
  ]
}