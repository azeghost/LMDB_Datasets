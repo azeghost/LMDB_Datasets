{
 "cells": [
  {
   "cell_type": "code",
   "execution_count": 1,
   "metadata": {},
   "outputs": [],
   "source": [
    "%load_ext autoreload\n",
    "%autoreload 2"
   ]
  },
  {
   "cell_type": "code",
   "execution_count": 2,
   "metadata": {
    "pycharm": {
     "name": "#%%\n"
    }
   },
   "outputs": [],
   "source": [
    "import os\n",
    "import sys\n",
    "import lmdb\n",
    "import pickle\n",
    "import numpy as np"
   ]
  },
  {
   "cell_type": "code",
   "execution_count": null,
   "metadata": {
    "scrolled": false
   },
   "outputs": [],
   "source": [
    "os.chdir('/home/azeghost/git/Generative_Models') # adress to git dir\n",
    "print(os.getcwd())\n",
    "sep_local = os.sep"
   ]
  },
  {
   "cell_type": "code",
   "execution_count": null,
   "metadata": {},
   "outputs": [],
   "source": []
  },
  {
   "cell_type": "markdown",
   "metadata": {},
   "source": [
    "## Download data prep for Eval_dataset the old method"
   ]
  },
  {
   "cell_type": "code",
   "execution_count": null,
   "metadata": {},
   "outputs": [],
   "source": [
    "#DATA_DOWN_PATH = '..'+sep_local+'..'+sep_local+'..'+sep_local+'data'\n",
    "DATA_DOWN_PATH = os.getcwd() + sep_local+'data'\n",
    "Script_dir = os.getcwd() + sep_local+'data'+sep_local+'download_gt_data.sh'\n",
    "# Script call to download \"dsprites_full\" dataset_name \n",
    "dataset_name = 'small_norb'\n",
    "!/bin/bash $Script_dir -f $DATA_DOWN_PATH -d $dataset_name"
   ]
  },
  {
   "cell_type": "code",
   "execution_count": null,
   "metadata": {},
   "outputs": [],
   "source": [
    "from data.gt_load.datasets import load\n",
    "DATA_PATH =  os.getcwd() + sep_local+'data' +sep_local+'.gt_datasets'\n",
    "absolute = os.path.abspath(DATA_PATH)\n",
    "print(\"DATA_PATH\",absolute)\n",
    "# eval_dataset = load(dataset_name='dsprites_full', dataset_path=DATA_PATH)"
   ]
  },
  {
   "cell_type": "code",
   "execution_count": null,
   "metadata": {},
   "outputs": [],
   "source": [
    "def save_to_npz(datasetName: str, X, Y=None, L=None, Z=None):\n",
    "#     print('Started Saving arrays to npz')\n",
    "    BASE_PATH = os.path.join(os.getcwd()+os.sep + 'npz_data')\n",
    "    if not os.path.exists(BASE_PATH):\n",
    "        os.makedirs(BASE_PATH)\n",
    "    file_name = \"{0}.npz\".format(datasetName)\n",
    "    if os.path.exists(file_name):\n",
    "        os.remove(file_name)\n",
    "    np.savez(os.path.join(BASE_PATH, file_name), X=X, Y=Y, L=L, Z=Z)\n",
    "#     print('Finished Saving arrays to npz')\n"
   ]
  },
  {
   "cell_type": "code",
   "execution_count": null,
   "metadata": {},
   "outputs": [],
   "source": [
    "def load_from_npz(BASE_PATH: str, datasetName: str):\n",
    "#     print('Started loading arrays from npz')\n",
    "#     BASE_PATH = os.path.join(os.getcwd()+os.sep + 'npz_data')\n",
    "    file_name = \"{0}.npz\".format(datasetName)\n",
    "    data = np.load(os.path.join(BASE_PATH, file_name))\n",
    "#     print('Finished loading arrays from npz')\n",
    "    if 'celeb_a' in datasetName:\n",
    "        return data['X'], data['Y'], data['L']\n",
    "    return data['X'], data['Y'], data['L']"
   ]
  },
  {
   "cell_type": "code",
   "execution_count": null,
   "metadata": {},
   "outputs": [],
   "source": [
    "\"\"\"SmallNORB dataset.\"\"\"\n",
    "import os\n",
    "from data.gt_load import gt_data, util\n",
    "# import dask.array as da\n",
    "import numpy as np\n",
    "import PIL\n",
    "from six.moves import range\n",
    "import tensorflow as tf\n",
    "from tqdm import tqdm\n",
    "import math\n",
    "\n",
    "class SmallNORB_2(gt_data.GroundTruthData):\n",
    "    \"\"\"SmallNORB dataset.\n",
    "\n",
    "    The data set can be downloaded from\n",
    "    https://cs.nyu.edu/~ylclab/data/norb-v1.0-small/. Images are resized to 64x64.\n",
    "\n",
    "    The ground-truth factors of variation are:\n",
    "    0 - category (5 different values)\n",
    "    1 - elevation (9 different values)\n",
    "    2 - azimuth (18 different values)\n",
    "    3 - lighting condition (6 different values)\n",
    "\n",
    "    The instance in each category is randomly sampled when generating the images.\n",
    "    \"\"\"\n",
    "\n",
    "    def __init__(self, data_template, data_chuncks):\n",
    "        self.images, features = _load_small_norb_chunks(data_template,\n",
    "                                                        data_chuncks)\n",
    "        latents_names = ['category', 'instance', 'elevation', 'azimuth', 'lighting']\n",
    "        \n",
    "        \n",
    "        for idx, n in tqdm(enumerate(range(0,48600,10000)),  total=math.ceil(48600/10000)):\n",
    "                latents_values = features[n:n+10000]\n",
    "                imgs = self.images[n:n+10000]\n",
    "                \n",
    "                save_to_npz(datasetName = f'SmallNORB_{idx}', X = imgs, Y=latents_values, L = latents_names)\n",
    "        \n",
    "\n",
    "        \n",
    "        \n",
    "#         self.factor_sizes = [5, 10, 9, 18, 6]\n",
    "#         # Instances are not part of the latents space.\n",
    "#         self.latents_factor_indices = [0, 2, 3, 4]\n",
    "#         self.num_total_factors = features.shape[1]\n",
    "#         self.index = util.StateSpaceAtomIndex(self.factor_sizes, features)\n",
    "#         self.state_space = util.SplitDiscreteStateSpace(self.factor_sizes,\n",
    "#                                                         self.latents_factor_indices)\n",
    "\n",
    "    @property\n",
    "    def num_factors(self):\n",
    "        return self.state_space.num_latents_factors\n",
    "\n",
    "    @property\n",
    "    def factors_num_values(self):\n",
    "        return [self.factor_sizes[i] for i in self.latents_factor_indices]\n",
    "\n",
    "    @property\n",
    "    def observation_shape(self):\n",
    "        return [64, 64, 1]\n",
    "\n",
    "    def sample_factors(self, num, random_state):\n",
    "        \"\"\"Sample a batch of factors Y.\"\"\"\n",
    "        return self.state_space.sample_latents_factors(num, random_state)\n",
    "\n",
    "    def sample_observations_from_factors(self, factors, random_state):\n",
    "        all_factors = self.state_space.sample_all_factors(factors, random_state)\n",
    "        indices = self.index.features_to_index(all_factors)\n",
    "        return np.expand_dims(self.images[indices].astype(np.float32), axis=3)\n",
    "\n",
    "\n",
    "def _load_small_norb_chunks(path_template, chunk_names):\n",
    "    \"\"\"Loads several chunks of the small norb data set for final use.\"\"\"\n",
    "    list_of_images, list_of_features = _load_chunks(path_template, chunk_names)\n",
    "    features = np.concatenate(list_of_features, axis=0)\n",
    "    features[:, 3] = features[:, 3] / 2  # azimuth values are 0, 2, 4, ..., 24\n",
    "    return np.concatenate(list_of_images, axis=0), features\n",
    "\n",
    "\n",
    "def _load_chunks(path_template, chunk_names):\n",
    "    \"\"\"Loads several chunks of the small norb data set into lists.\"\"\"\n",
    "    list_of_images = []\n",
    "    list_of_features = []\n",
    "    for chunk_name in chunk_names:\n",
    "        norb = _read_binary_matrix(path_template.format(chunk_name, \"dat\"))\n",
    "        list_of_images.append(_resize_images(norb[:, 0]))\n",
    "        norb_class = _read_binary_matrix(path_template.format(chunk_name, \"cat\"))\n",
    "        norb_info = _read_binary_matrix(path_template.format(chunk_name, \"info\"))\n",
    "        list_of_features.append(np.column_stack((norb_class, norb_info)))\n",
    "    return list_of_images, list_of_features\n",
    "\n",
    "\n",
    "def _read_binary_matrix(filename):\n",
    "    \"\"\"Reads and returns binary formatted matrix stored in filename.\"\"\"\n",
    "    with tf.io.gfile.GFile(filename, \"rb\") as f:\n",
    "        s = f.read()\n",
    "        magic = int(np.frombuffer(s, \"int32\", 1))\n",
    "        ndim = int(np.frombuffer(s, \"int32\", 1, 4))\n",
    "        eff_dim = max(3, ndim)\n",
    "        raw_dims = np.frombuffer(s, \"int32\", eff_dim, 8)\n",
    "        dims = []\n",
    "        for i in range(0, ndim):\n",
    "          dims.append(raw_dims[i])\n",
    "\n",
    "        dtype_map = {\n",
    "            507333717: \"int8\",\n",
    "            507333716: \"int32\",\n",
    "            507333713: \"float\",\n",
    "            507333715: \"double\"\n",
    "        }\n",
    "        data = np.frombuffer(s, dtype_map[magic], offset=8 + eff_dim * 4)\n",
    "    data = data.reshape(tuple(dims))\n",
    "    return data\n",
    "\n",
    "\n",
    "def _resize_images(integer_images):\n",
    "    resized_images = np.zeros((integer_images.shape[0], 64, 64))\n",
    "    for i in range(integer_images.shape[0]):\n",
    "        image = PIL.Image.fromarray(integer_images[i, :, :])\n",
    "        image = image.resize((64, 64), PIL.Image.ANTIALIAS)\n",
    "        resized_images[i, :, :] = image\n",
    "    return resized_images / 255.\n"
   ]
  },
  {
   "cell_type": "code",
   "execution_count": null,
   "metadata": {},
   "outputs": [],
   "source": [
    "def small_norb(dataset_path):\n",
    "    SMALLNORB_TEMPLATE = os.path.join(\n",
    "        dataset_path,\n",
    "        \"small_norb\",\n",
    "        \"smallnorb-{}-{}.mat\"\n",
    "    )\n",
    "\n",
    "    SMALLNORB_CHUNKS = [\n",
    "         \"5x46789x9x18x6x2x96x96-training\",\n",
    "         \"5x01235x9x18x6x2x96x96-testing\",\n",
    "     ]\n",
    "    return SmallNORB_2(data_template=SMALLNORB_TEMPLATE, data_chuncks=SMALLNORB_CHUNKS)"
   ]
  },
  {
   "cell_type": "code",
   "execution_count": null,
   "metadata": {},
   "outputs": [],
   "source": [
    "dataset_path = '/home/azeghost/git/Generative_Models/data/.gt_datasets'\n",
    "test_sm=small_norb(dataset_path)\n"
   ]
  },
  {
   "cell_type": "code",
   "execution_count": 3,
   "metadata": {},
   "outputs": [],
   "source": [
    "import os\n",
    "os.chdir('/home/azeghost/git/lmdb_new/LMDB_Datasets')\n",
    "os.getcwd()\n",
    "BASE_PATH = os.path.join('/home/azeghost/git/Generative_Models'+os.sep + 'npz_data')"
   ]
  },
  {
   "cell_type": "code",
   "execution_count": 4,
   "metadata": {},
   "outputs": [],
   "source": [
    "from transformation.lmdb_transformer import LmdbTransformer\n",
    "from tqdm import tqdm\n",
    "import math"
   ]
  },
  {
   "cell_type": "code",
   "execution_count": 5,
   "metadata": {},
   "outputs": [],
   "source": [
    "validation_percentage = 30\n",
    "valid_format = 'png'\n",
    "numpy_transformer = LmdbTransformer( validation_percentage, valid_format)"
   ]
  },
  {
   "cell_type": "code",
   "execution_count": null,
   "metadata": {},
   "outputs": [],
   "source": [
    "for idx, n in enumerate(range(0,48600,10000)):\n",
    "    imgs, latents_values, latents_names = load_from_npz(BASE_PATH, datasetName = f'SmallNORB_{idx}')\n",
    "\n",
    "    numpy_transformer.transform_store_from_numpy(images =imgs,\n",
    "                                                 labels_values =latents_values , \n",
    "                                                 labels_names = latents_names,\n",
    "                                                 lmdb_dir='.data/SmallNORB_LMDB',\n",
    "                                                 category='full',\n",
    "                                                 total_number_imgs = 48600,\n",
    "                                                 file_idx = idx)\n",
    "    \n"
   ]
  },
  {
   "cell_type": "code",
   "execution_count": null,
   "metadata": {
    "scrolled": false
   },
   "outputs": [],
   "source": [
    "import tensorflow_datasets as tfds\n",
    "\n",
    "builder = tfds.builder('smallnorb')\n",
    "info = builder.info\n",
    "# print(info)\n",
    "meta1_info_dict = {}\n",
    "meta1_info_dict .update(info.features)\n",
    "meta1_info_dict.update({'name': info.name})\n",
    "meta1_info_dict.update({'description':str( info.description)})\n",
    "meta1_info_dict\n"
   ]
  },
  {
   "cell_type": "code",
   "execution_count": null,
   "metadata": {},
   "outputs": [],
   "source": [
    "numpy_transformer.save_metadata('/home/azeghost/git/lmdb_new/LMDB_Datasets/.data/SmallNORB_LMDB'\n",
    "                                ,meta1_info_dict)"
   ]
  },
  {
   "cell_type": "code",
   "execution_count": 8,
   "metadata": {
    "scrolled": true
   },
   "outputs": [
    {
     "ename": "FileNotFoundError",
     "evalue": "[Errno 2] No such file or directory: '/home/azeghost/git/lmdb_new/LMDB_Datasets/.data/SmallNORB_LMDB/meta_info.json'",
     "output_type": "error",
     "traceback": [
      "\u001b[0;31m---------------------------------------------------------------------------\u001b[0m",
      "\u001b[0;31mFileNotFoundError\u001b[0m                         Traceback (most recent call last)",
      "\u001b[0;32m<ipython-input-8-6b7a0bdb05e4>\u001b[0m in \u001b[0;36m<module>\u001b[0;34m\u001b[0m\n\u001b[0;32m----> 1\u001b[0;31m \u001b[0mnumpy_transformer\u001b[0m\u001b[0;34m.\u001b[0m\u001b[0mget_metadata\u001b[0m\u001b[0;34m(\u001b[0m\u001b[0;34m'/home/azeghost/git/lmdb_new/LMDB_Datasets/.data/SmallNORB_LMDB'\u001b[0m\u001b[0;34m)\u001b[0m\u001b[0;34m\u001b[0m\u001b[0;34m\u001b[0m\u001b[0m\n\u001b[0m",
      "\u001b[0;32m~/git/lmdb_new/LMDB_Datasets/transformation/lmdb_transformer.py\u001b[0m in \u001b[0;36mget_metadata\u001b[0;34m(self, file)\u001b[0m\n\u001b[1;32m    116\u001b[0m     \u001b[0;32mdef\u001b[0m \u001b[0mget_metadata\u001b[0m\u001b[0;34m(\u001b[0m\u001b[0mself\u001b[0m\u001b[0;34m,\u001b[0m \u001b[0mfile\u001b[0m\u001b[0;34m)\u001b[0m\u001b[0;34m:\u001b[0m\u001b[0;34m\u001b[0m\u001b[0;34m\u001b[0m\u001b[0m\n\u001b[1;32m    117\u001b[0m         \u001b[0mfile\u001b[0m \u001b[0;34m=\u001b[0m \u001b[0mfile\u001b[0m \u001b[0;34m+\u001b[0m \u001b[0mos\u001b[0m\u001b[0;34m.\u001b[0m\u001b[0msep\u001b[0m \u001b[0;34m+\u001b[0m \u001b[0;34m'meta_info.json'\u001b[0m\u001b[0;34m\u001b[0m\u001b[0;34m\u001b[0m\u001b[0m\n\u001b[0;32m--> 118\u001b[0;31m         \u001b[0;32mwith\u001b[0m \u001b[0mopen\u001b[0m\u001b[0;34m(\u001b[0m\u001b[0mfile\u001b[0m\u001b[0;34m)\u001b[0m \u001b[0;32mas\u001b[0m \u001b[0mjson_file\u001b[0m\u001b[0;34m:\u001b[0m\u001b[0;34m\u001b[0m\u001b[0;34m\u001b[0m\u001b[0m\n\u001b[0m\u001b[1;32m    119\u001b[0m             \u001b[0mdata\u001b[0m \u001b[0;34m=\u001b[0m \u001b[0mjson\u001b[0m\u001b[0;34m.\u001b[0m\u001b[0mload\u001b[0m\u001b[0;34m(\u001b[0m\u001b[0mjson_file\u001b[0m\u001b[0;34m)\u001b[0m\u001b[0;34m\u001b[0m\u001b[0;34m\u001b[0m\u001b[0m\n\u001b[1;32m    120\u001b[0m             \u001b[0mdata_dict\u001b[0m \u001b[0;34m=\u001b[0m \u001b[0mjson\u001b[0m\u001b[0;34m.\u001b[0m\u001b[0mloads\u001b[0m\u001b[0;34m(\u001b[0m\u001b[0mdata\u001b[0m\u001b[0;34m)\u001b[0m\u001b[0;34m\u001b[0m\u001b[0;34m\u001b[0m\u001b[0m\n",
      "\u001b[0;31mFileNotFoundError\u001b[0m: [Errno 2] No such file or directory: '/home/azeghost/git/lmdb_new/LMDB_Datasets/.data/SmallNORB_LMDB/meta_info.json'"
     ]
    }
   ],
   "source": [
    "numpy_transformer.get_metadata('/home/azeghost/git/lmdb_new/LMDB_Datasets/.data/SmallNORB_LMDB')"
   ]
  },
  {
   "cell_type": "markdown",
   "metadata": {},
   "source": [
    "# Storing from small npz to LMDB"
   ]
  },
  {
   "cell_type": "markdown",
   "metadata": {},
   "source": [
    "# Read the lmdb "
   ]
  },
  {
   "cell_type": "markdown",
   "metadata": {},
   "source": [
    "#Todo\n",
    " - Env put outside of loops for write and read\n",
    " - Try the Dynamic code again with clean kernel \n",
    " - Create Standartize as an option"
   ]
  },
  {
   "cell_type": "code",
   "execution_count": null,
   "metadata": {},
   "outputs": [],
   "source": [
    "import lmdb\n",
    "import pickle\n",
    "\n",
    "def read_many_lmdb(lmdb_dir, num_images):\n",
    "\n",
    "    images, labels = [], {}\n",
    "    env = lmdb.open(lmdb_dir, readonly=True)\n",
    "\n",
    "    # Start a new read transaction\n",
    "    with env.begin() as txn:\n",
    "        # Read all images in one single transaction, with one lock\n",
    "        # We could split this up into multiple transactions if needed\n",
    "        for image_id in range(num_images):\n",
    "            data = txn.get(f\"{image_id:08}\".encode(\"ascii\"))\n",
    "            # Remember that it's a CIFAR_Image object \n",
    "            # that is stored as the value\n",
    "            dataset = pickle.loads(data)\n",
    "            images.append(dataset.get_image())\n",
    "            \n",
    "            labels_list = [attr for attr in dir(dataset) if not callable(getattr(dataset, attr)) and (not attr.startswith(\"__\")) and \n",
    "                           (not attr in ['image','channels',  'size'] )]\n",
    "            \n",
    "            for label in labels_list:\n",
    "                if label in labels.keys():\n",
    "                    labels[label].append(eval(f'dataset.{label}'))\n",
    "                else:\n",
    "                    labels.update({label : [eval(f'dataset.{label}') ]})\n",
    "    \n",
    "    env.close()\n",
    "    return {'images': images, **labels}"
   ]
  },
  {
   "cell_type": "code",
   "execution_count": null,
   "metadata": {
    "scrolled": true
   },
   "outputs": [],
   "source": [
    "ds = read_many_lmdb('/home/azeghost/git/lmdb_new/LMDB_Datasets/.data/Dstripes_LMDB/_full', 35000)"
   ]
  },
  {
   "cell_type": "code",
   "execution_count": null,
   "metadata": {},
   "outputs": [],
   "source": [
    "ds.keys()"
   ]
  },
  {
   "cell_type": "code",
   "execution_count": null,
   "metadata": {},
   "outputs": [],
   "source": [
    "len(ds['images'])"
   ]
  },
  {
   "cell_type": "code",
   "execution_count": null,
   "metadata": {},
   "outputs": [],
   "source": [
    "len(ds['color_value'])"
   ]
  },
  {
   "cell_type": "code",
   "execution_count": null,
   "metadata": {},
   "outputs": [],
   "source": [
    "os.chdir('/home/azeghost/git/lmdb_new/LMDB_Datasets/.data')"
   ]
  },
  {
   "cell_type": "markdown",
   "metadata": {},
   "source": [
    "# Zip and upload to git"
   ]
  },
  {
   "cell_type": "code",
   "execution_count": null,
   "metadata": {},
   "outputs": [],
   "source": [
    "!tar -cvjf dsprites.tar.bz Dstripes_LMDB/*"
   ]
  },
  {
   "cell_type": "code",
   "execution_count": null,
   "metadata": {},
   "outputs": [],
   "source": [
    "!split -b 50M dsprites.tar.bz \"dsprites.tar.part\"\n",
    "#split -b <max size> <name of zip or dir to zip/name> <split file name beginning>"
   ]
  },
  {
   "cell_type": "code",
   "execution_count": null,
   "metadata": {},
   "outputs": [],
   "source": [
    "#Check if they are created\n",
    "!ls -lh dsprites.tar.part*"
   ]
  },
  {
   "cell_type": "code",
   "execution_count": null,
   "metadata": {},
   "outputs": [],
   "source": [
    "import os\n",
    "os.chdir('/home/azeghost/git/lmdb_new/LMDB_Datasets/.data')"
   ]
  },
  {
   "cell_type": "code",
   "execution_count": null,
   "metadata": {
    "scrolled": false
   },
   "outputs": [],
   "source": [
    "!ls -la"
   ]
  },
  {
   "cell_type": "code",
   "execution_count": null,
   "metadata": {},
   "outputs": [],
   "source": [
    "#move to correct folder and push to git\n",
    "# !mkdir /home/azeghost/git/LMDB_Datasets/pokemon\n",
    "# !mv pokemon.tar.part* /home/azeghost/git/Generative_Models/data/.pokemon\n",
    "# !ls -la /home/azeghost/git/Generative_Models/data/.pokemon "
   ]
  },
  {
   "cell_type": "markdown",
   "metadata": {},
   "source": [
    "# Combine Them"
   ]
  },
  {
   "cell_type": "code",
   "execution_count": null,
   "metadata": {},
   "outputs": [],
   "source": [
    "#pokemon_training\n",
    "!cat pokemon.tar.part* > pokemon_combined.tar.bz\n",
    "#!cat <split files put * at the end> > <final zip name>\n",
    "!ls -la \n",
    "!pwd"
   ]
  },
  {
   "cell_type": "code",
   "execution_count": null,
   "metadata": {},
   "outputs": [],
   "source": [
    "!mkdir ./.test"
   ]
  },
  {
   "cell_type": "code",
   "execution_count": null,
   "metadata": {
    "scrolled": true
   },
   "outputs": [],
   "source": [
    "!tar -xf pokemon_combined.tar.bz --directory ./.test"
   ]
  },
  {
   "cell_type": "code",
   "execution_count": null,
   "metadata": {
    "scrolled": true
   },
   "outputs": [],
   "source": [
    "!ls -la ./.test/Pokemon_LMDB"
   ]
  },
  {
   "cell_type": "code",
   "execution_count": null,
   "metadata": {},
   "outputs": [],
   "source": [
    "# !rm -rf ./.test"
   ]
  }
 ],
 "metadata": {
  "kernelspec": {
   "display_name": "Python 3",
   "language": "python",
   "name": "python3"
  },
  "language_info": {
   "codemirror_mode": {
    "name": "ipython",
    "version": 3
   },
   "file_extension": ".py",
   "mimetype": "text/x-python",
   "name": "python",
   "nbconvert_exporter": "python",
   "pygments_lexer": "ipython3",
   "version": "3.8.3"
  }
 },
 "nbformat": 4,
 "nbformat_minor": 4
}
