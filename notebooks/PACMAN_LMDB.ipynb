{
 "cells": [
  {
   "cell_type": "code",
   "execution_count": 3,
   "metadata": {},
   "outputs": [
    {
     "name": "stdout",
     "output_type": "stream",
     "text": [
      "The autoreload extension is already loaded. To reload it, use:\n",
      "  %reload_ext autoreload\n"
     ]
    }
   ],
   "source": [
    "%load_ext autoreload\n",
    "%autoreload 2"
   ]
  },
  {
   "cell_type": "code",
   "execution_count": 6,
   "metadata": {
    "pycharm": {
     "name": "#%%\n"
    },
    "scrolled": true
   },
   "outputs": [],
   "source": [
    "import os\n",
    "import sys\n",
    "import lmdb\n",
    "import pickle\n",
    "import numpy as np"
   ]
  },
  {
   "cell_type": "code",
   "execution_count": 7,
   "metadata": {
    "scrolled": false
   },
   "outputs": [
    {
     "name": "stdout",
     "output_type": "stream",
     "text": [
      "/home/azeghost/git/lmdb_new/LMDB_Datasets\n"
     ]
    }
   ],
   "source": [
    "os.chdir('../') # adress to git dir\n",
    "print(os.getcwd())"
   ]
  },
  {
   "cell_type": "code",
   "execution_count": 8,
   "metadata": {
    "scrolled": true
   },
   "outputs": [
    {
     "ename": "ModuleNotFoundError",
     "evalue": "No module named 'tqdm'",
     "output_type": "error",
     "traceback": [
      "\u001b[0;31m---------------------------------------------------------------------------\u001b[0m",
      "\u001b[0;31mModuleNotFoundError\u001b[0m                       Traceback (most recent call last)",
      "\u001b[0;32m<ipython-input-8-12fd9cab340a>\u001b[0m in \u001b[0;36m<module>\u001b[0;34m\u001b[0m\n\u001b[0;32m----> 1\u001b[0;31m \u001b[0;32mfrom\u001b[0m \u001b[0mtransformation\u001b[0m\u001b[0;34m.\u001b[0m\u001b[0mlmdb_transformer\u001b[0m \u001b[0;32mimport\u001b[0m \u001b[0mLmdbTransformer\u001b[0m\u001b[0;34m\u001b[0m\u001b[0;34m\u001b[0m\u001b[0m\n\u001b[0m",
      "\u001b[0;32m~/git/lmdb_new/LMDB_Datasets/transformation/lmdb_transformer.py\u001b[0m in \u001b[0;36m<module>\u001b[0;34m\u001b[0m\n\u001b[1;32m      4\u001b[0m \u001b[0;32mimport\u001b[0m \u001b[0mjson\u001b[0m\u001b[0;34m\u001b[0m\u001b[0;34m\u001b[0m\u001b[0m\n\u001b[1;32m      5\u001b[0m \u001b[0;34m\u001b[0m\u001b[0m\n\u001b[0;32m----> 6\u001b[0;31m \u001b[0;32mfrom\u001b[0m \u001b[0mtqdm\u001b[0m \u001b[0;32mimport\u001b[0m \u001b[0mtqdm\u001b[0m\u001b[0;34m\u001b[0m\u001b[0;34m\u001b[0m\u001b[0m\n\u001b[0m\u001b[1;32m      7\u001b[0m \u001b[0;32mimport\u001b[0m \u001b[0mlmdb\u001b[0m\u001b[0;34m\u001b[0m\u001b[0;34m\u001b[0m\u001b[0m\n\u001b[1;32m      8\u001b[0m \u001b[0;32mfrom\u001b[0m \u001b[0mtensorflow\u001b[0m\u001b[0;34m.\u001b[0m\u001b[0mkeras\u001b[0m \u001b[0;32mimport\u001b[0m \u001b[0mbackend\u001b[0m \u001b[0;32mas\u001b[0m \u001b[0mK\u001b[0m\u001b[0;34m\u001b[0m\u001b[0;34m\u001b[0m\u001b[0m\n",
      "\u001b[0;31mModuleNotFoundError\u001b[0m: No module named 'tqdm'"
     ]
    }
   ],
   "source": [
    "from transformation.lmdb_transformer import LmdbTransformer"
   ]
  },
  {
   "cell_type": "code",
   "execution_count": 9,
   "metadata": {},
   "outputs": [],
   "source": [
    "# Store images in lmdb"
   ]
  },
  {
   "cell_type": "code",
   "execution_count": 21,
   "metadata": {},
   "outputs": [],
   "source": [
    "images_dir = '/home/azeghost/datasets/.mspacman/atari_v1/screens/mspacman' #Folder to images\n",
    "validation_percentage = 30\n",
    "valid_format = 'png'"
   ]
  },
  {
   "cell_type": "code",
   "execution_count": 22,
   "metadata": {},
   "outputs": [
    {
     "data": {
      "text/plain": [
       "'/home/azeghost/datasets/.mspacman/atari_v1/screens/mspacman'"
      ]
     },
     "execution_count": 22,
     "metadata": {},
     "output_type": "execute_result"
    }
   ],
   "source": [
    "images_dir"
   ]
  },
  {
   "cell_type": "code",
   "execution_count": 23,
   "metadata": {
    "scrolled": true
   },
   "outputs": [],
   "source": [
    "transformer = LmdbTransformer(image_dir = images_dir, \n",
    "                              validation_pct = validation_percentage, valid_image_formats = valid_format)"
   ]
  },
  {
   "cell_type": "markdown",
   "metadata": {},
   "source": [
    "## Calculating the number of images for training and validation"
   ]
  },
  {
   "cell_type": "code",
   "execution_count": 24,
   "metadata": {},
   "outputs": [
    {
     "name": "stdout",
     "output_type": "stream",
     "text": [
      "1092505 468474\n"
     ]
    }
   ],
   "source": [
    "val_num_images = 0\n",
    "tra_num_images = 0\n",
    "for key in transformer.image_lists.keys():\n",
    "    tra_num_images += len(transformer.image_lists[key]['training'])\n",
    "    val_num_images += len(transformer.image_lists[key]['validation'])\n",
    "    \n",
    "print(tra_num_images, val_num_images)"
   ]
  },
  {
   "cell_type": "code",
   "execution_count": 10,
   "metadata": {},
   "outputs": [],
   "source": [
    "# map_size = num_images * img.nbytes * 10"
   ]
  },
  {
   "cell_type": "code",
   "execution_count": 16,
   "metadata": {},
   "outputs": [],
   "source": [
    "# !rm -rf /home/azeghost/git/lmdb_new/LMDB_Datasets/.data/Pacman_LMDB"
   ]
  },
  {
   "cell_type": "code",
   "execution_count": 30,
   "metadata": {},
   "outputs": [],
   "source": [
    "info = {\n",
    "    'Dataset_name': \"Pacman\",\n",
    "    'Dataset_size': val_num_images + tra_num_images,\n",
    "    'val_num_images':val_num_images,\n",
    "    'tra_num_images' : tra_num_images\n",
    "}\n",
    "\n",
    "transformer.save_metadata('/home/azeghost/git/lmdb_new/LMDB_Datasets/.data/Pacman_LMDB',info)"
   ]
  },
  {
   "cell_type": "code",
   "execution_count": 31,
   "metadata": {},
   "outputs": [
    {
     "data": {
      "text/plain": [
       "{'Dataset_name': 'Pacman',\n",
       " 'Dataset_size': 1560979,\n",
       " 'val_num_images': 468474,\n",
       " 'tra_num_images': 1092505}"
      ]
     },
     "execution_count": 31,
     "metadata": {},
     "output_type": "execute_result"
    }
   ],
   "source": [
    "transformer.get_metadata('/home/azeghost/git/lmdb_new/LMDB_Datasets/.data/Pacman_LMDB')"
   ]
  },
  {
   "cell_type": "code",
   "execution_count": null,
   "metadata": {},
   "outputs": [],
   "source": []
  },
  {
   "cell_type": "code",
   "execution_count": 25,
   "metadata": {},
   "outputs": [],
   "source": [
    "from datasets_customed.label_by_filename import get_label_by_filename"
   ]
  },
  {
   "cell_type": "code",
   "execution_count": 26,
   "metadata": {},
   "outputs": [],
   "source": [
    "import os\n",
    "import numpy as np\n",
    "\n",
    "\n",
    "def get_label_by_filename(img_path):\n",
    "    name, _ = os.path.splitext(img_path)\n",
    "    vid_img_arr = name.split(sep=os.sep)[-2:]\n",
    "    return {'dir': (vid_img_arr)[0], 'filename': (vid_img_arr)[1]}"
   ]
  },
  {
   "cell_type": "code",
   "execution_count": 27,
   "metadata": {},
   "outputs": [],
   "source": [
    "# get_label_by_filename('/home/azeghost/git/lmdb_new/LMDB_Datasets/.data/Pokemon_LMDB/img.png')"
   ]
  },
  {
   "cell_type": "code",
   "execution_count": 28,
   "metadata": {
    "scrolled": true
   },
   "outputs": [],
   "source": [
    "!mkdir .data/Pacman_LMDB"
   ]
  },
  {
   "cell_type": "code",
   "execution_count": 29,
   "metadata": {
    "scrolled": true
   },
   "outputs": [
    {
     "name": "stdout",
     "output_type": "stream",
     "text": [
      "Total number of imgs for catagory 1092505\n",
      "Storing 4509.data/Pacman_LMDB/into _training from folder 1\n",
      "Storing 913.data/Pacman_LMDB/into _training from folder 2\n",
      "Storing 227.data/Pacman_LMDB/into _training from folder 3\n",
      "Storing 225.data/Pacman_LMDB/into _training from folder 5\n",
      "Storing 1462.data/Pacman_LMDB/into _training from folder 7\n",
      "Storing 1098.data/Pacman_LMDB/into _training from folder 8\n",
      "Storing 1372.data/Pacman_LMDB/into _training from folder 9\n",
      "Storing 1066.data/Pacman_LMDB/into _training from folder 10\n",
      "Storing 2198.data/Pacman_LMDB/into _training from folder 11\n",
      "Storing 2921.data/Pacman_LMDB/into _training from folder 12\n",
      "Storing 3503.data/Pacman_LMDB/into _training from folder 13\n",
      "Storing 1404.data/Pacman_LMDB/into _training from folder 14\n",
      "Storing 3694.data/Pacman_LMDB/into _training from folder 15\n",
      "Storing 4776.data/Pacman_LMDB/into _training from folder 18\n",
      "Storing 3523.data/Pacman_LMDB/into _training from folder 19\n",
      "Storing 2307.data/Pacman_LMDB/into _training from folder 21\n",
      "Storing 248.data/Pacman_LMDB/into _training from folder 24\n",
      "Storing 4151.data/Pacman_LMDB/into _training from folder 25\n",
      "Storing 2118.data/Pacman_LMDB/into _training from folder 29\n",
      "Storing 1689.data/Pacman_LMDB/into _training from folder 30\n",
      "Storing 3131.data/Pacman_LMDB/into _training from folder 31\n",
      "Storing 191.data/Pacman_LMDB/into _training from folder 32\n",
      "Storing 207.data/Pacman_LMDB/into _training from folder 33\n",
      "Storing 3512.data/Pacman_LMDB/into _training from folder 35\n",
      "Storing 3623.data/Pacman_LMDB/into _training from folder 36\n",
      "Storing 2964.data/Pacman_LMDB/into _training from folder 39\n",
      "Storing 4382.data/Pacman_LMDB/into _training from folder 40\n",
      "Storing 1158.data/Pacman_LMDB/into _training from folder 47\n",
      "Storing 1885.data/Pacman_LMDB/into _training from folder 48\n",
      "Storing 2940.data/Pacman_LMDB/into _training from folder 52\n",
      "Storing 193.data/Pacman_LMDB/into _training from folder 53\n",
      "Storing 5737.data/Pacman_LMDB/into _training from folder 56\n",
      "Storing 4167.data/Pacman_LMDB/into _training from folder 60\n",
      "Storing 4180.data/Pacman_LMDB/into _training from folder 61\n",
      "Storing 3575.data/Pacman_LMDB/into _training from folder 62\n",
      "Storing 4774.data/Pacman_LMDB/into _training from folder 63\n",
      "Storing 5537.data/Pacman_LMDB/into _training from folder 64\n",
      "Storing 1758.data/Pacman_LMDB/into _training from folder 65\n",
      "Storing 2307.data/Pacman_LMDB/into _training from folder 66\n",
      "Storing 3491.data/Pacman_LMDB/into _training from folder 67\n",
      "Storing 3313.data/Pacman_LMDB/into _training from folder 68\n",
      "Storing 2393.data/Pacman_LMDB/into _training from folder 69\n",
      "Storing 3055.data/Pacman_LMDB/into _training from folder 76\n",
      "Storing 646.data/Pacman_LMDB/into _training from folder 77\n",
      "Storing 2463.data/Pacman_LMDB/into _training from folder 78\n",
      "Storing 2699.data/Pacman_LMDB/into _training from folder 79\n",
      "Storing 3896.data/Pacman_LMDB/into _training from folder 80\n",
      "Storing 7079.data/Pacman_LMDB/into _training from folder 81\n",
      "Storing 3502.data/Pacman_LMDB/into _training from folder 82\n",
      "Storing 3311.data/Pacman_LMDB/into _training from folder 83\n",
      "Storing 3430.data/Pacman_LMDB/into _training from folder 84\n",
      "Storing 3566.data/Pacman_LMDB/into _training from folder 85\n",
      "Storing 2414.data/Pacman_LMDB/into _training from folder 86\n",
      "Storing 3187.data/Pacman_LMDB/into _training from folder 87\n",
      "Storing 885.data/Pacman_LMDB/into _training from folder 88\n",
      "Storing 4984.data/Pacman_LMDB/into _training from folder 90\n",
      "Storing 2220.data/Pacman_LMDB/into _training from folder 91\n",
      "Storing 5723.data/Pacman_LMDB/into _training from folder 92\n",
      "Storing 2034.data/Pacman_LMDB/into _training from folder 93\n",
      "Storing 2162.data/Pacman_LMDB/into _training from folder 94\n",
      "Storing 1214.data/Pacman_LMDB/into _training from folder 95\n",
      "Storing 437.data/Pacman_LMDB/into _training from folder 96\n",
      "Storing 3749.data/Pacman_LMDB/into _training from folder 97\n",
      "Storing 2222.data/Pacman_LMDB/into _training from folder 98\n",
      "Storing 1777.data/Pacman_LMDB/into _training from folder 99\n",
      "Storing 374.data/Pacman_LMDB/into _training from folder 100\n",
      "Storing 4043.data/Pacman_LMDB/into _training from folder 102\n",
      "Storing 4883.data/Pacman_LMDB/into _training from folder 103\n",
      "Storing 5805.data/Pacman_LMDB/into _training from folder 107\n",
      "Storing 4995.data/Pacman_LMDB/into _training from folder 110\n",
      "Storing 2926.data/Pacman_LMDB/into _training from folder 112\n",
      "Storing 4138.data/Pacman_LMDB/into _training from folder 113\n",
      "Storing 4723.data/Pacman_LMDB/into _training from folder 114\n",
      "Storing 872.data/Pacman_LMDB/into _training from folder 115\n",
      "Storing 1839.data/Pacman_LMDB/into _training from folder 116\n",
      "Storing 4382.data/Pacman_LMDB/into _training from folder 117\n",
      "Storing 5838.data/Pacman_LMDB/into _training from folder 119\n",
      "Storing 2403.data/Pacman_LMDB/into _training from folder 120\n",
      "Storing 275.data/Pacman_LMDB/into _training from folder 121\n",
      "Storing 1589.data/Pacman_LMDB/into _training from folder 123\n",
      "Storing 1754.data/Pacman_LMDB/into _training from folder 125\n",
      "Storing 2531.data/Pacman_LMDB/into _training from folder 126\n",
      "Storing 2963.data/Pacman_LMDB/into _training from folder 127\n",
      "Storing 3171.data/Pacman_LMDB/into _training from folder 129\n",
      "Storing 396.data/Pacman_LMDB/into _training from folder 131\n",
      "Storing 2301.data/Pacman_LMDB/into _training from folder 132\n",
      "Storing 3040.data/Pacman_LMDB/into _training from folder 133\n",
      "Storing 2074.data/Pacman_LMDB/into _training from folder 134\n",
      "Storing 443.data/Pacman_LMDB/into _training from folder 135\n",
      "Storing 3518.data/Pacman_LMDB/into _training from folder 136\n",
      "Storing 4202.data/Pacman_LMDB/into _training from folder 138\n",
      "Storing 3959.data/Pacman_LMDB/into _training from folder 139\n",
      "Storing 1977.data/Pacman_LMDB/into _training from folder 140\n",
      "Storing 4530.data/Pacman_LMDB/into _training from folder 141\n",
      "Storing 6413.data/Pacman_LMDB/into _training from folder 142\n",
      "Storing 2210.data/Pacman_LMDB/into _training from folder 144\n",
      "Storing 4853.data/Pacman_LMDB/into _training from folder 147\n",
      "Storing 1484.data/Pacman_LMDB/into _training from folder 148\n",
      "Storing 3951.data/Pacman_LMDB/into _training from folder 149\n",
      "Storing 7362.data/Pacman_LMDB/into _training from folder 150\n",
      "Storing 6813.data/Pacman_LMDB/into _training from folder 151\n",
      "Storing 2436.data/Pacman_LMDB/into _training from folder 152\n",
      "Storing 6547.data/Pacman_LMDB/into _training from folder 153\n",
      "Storing 201.data/Pacman_LMDB/into _training from folder 157\n",
      "Storing 2917.data/Pacman_LMDB/into _training from folder 162\n",
      "Storing 196.data/Pacman_LMDB/into _training from folder 167\n",
      "Storing 4012.data/Pacman_LMDB/into _training from folder 168\n",
      "Storing 10196.data/Pacman_LMDB/into _training from folder 169\n",
      "Storing 3190.data/Pacman_LMDB/into _training from folder 171\n",
      "Storing 541.data/Pacman_LMDB/into _training from folder 172\n",
      "Storing 1081.data/Pacman_LMDB/into _training from folder 173\n",
      "Storing 629.data/Pacman_LMDB/into _training from folder 174\n",
      "Storing 4627.data/Pacman_LMDB/into _training from folder 175\n",
      "Storing 4439.data/Pacman_LMDB/into _training from folder 176\n",
      "Storing 1479.data/Pacman_LMDB/into _training from folder 177\n",
      "Storing 8281.data/Pacman_LMDB/into _training from folder 178\n",
      "Storing 5002.data/Pacman_LMDB/into _training from folder 179\n",
      "Storing 4767.data/Pacman_LMDB/into _training from folder 180\n",
      "Storing 1623.data/Pacman_LMDB/into _training from folder 182\n",
      "Storing 4997.data/Pacman_LMDB/into _training from folder 183\n",
      "Storing 3779.data/Pacman_LMDB/into _training from folder 184\n",
      "Storing 2318.data/Pacman_LMDB/into _training from folder 186\n",
      "Storing 2074.data/Pacman_LMDB/into _training from folder 187\n",
      "Storing 4486.data/Pacman_LMDB/into _training from folder 188\n",
      "Storing 378.data/Pacman_LMDB/into _training from folder 189\n",
      "Storing 2692.data/Pacman_LMDB/into _training from folder 190\n",
      "Storing 1267.data/Pacman_LMDB/into _training from folder 192\n",
      "Storing 3281.data/Pacman_LMDB/into _training from folder 193\n",
      "Storing 3903.data/Pacman_LMDB/into _training from folder 202\n",
      "Storing 1345.data/Pacman_LMDB/into _training from folder 203\n",
      "Storing 3360.data/Pacman_LMDB/into _training from folder 204\n",
      "Storing 5357.data/Pacman_LMDB/into _training from folder 206\n",
      "Storing 205.data/Pacman_LMDB/into _training from folder 209\n",
      "Storing 1180.data/Pacman_LMDB/into _training from folder 210\n",
      "Storing 4970.data/Pacman_LMDB/into _training from folder 212\n",
      "Storing 226.data/Pacman_LMDB/into _training from folder 215\n"
     ]
    },
    {
     "name": "stdout",
     "output_type": "stream",
     "text": [
      "Storing 2144.data/Pacman_LMDB/into _training from folder 216\n",
      "Storing 1976.data/Pacman_LMDB/into _training from folder 218\n",
      "Storing 1892.data/Pacman_LMDB/into _training from folder 219\n",
      "Storing 2158.data/Pacman_LMDB/into _training from folder 223\n",
      "Storing 4000.data/Pacman_LMDB/into _training from folder 224\n",
      "Storing 2013.data/Pacman_LMDB/into _training from folder 236\n",
      "Storing 4189.data/Pacman_LMDB/into _training from folder 237\n",
      "Storing 1002.data/Pacman_LMDB/into _training from folder 238\n",
      "Storing 1670.data/Pacman_LMDB/into _training from folder 239\n",
      "Storing 2180.data/Pacman_LMDB/into _training from folder 240\n",
      "Storing 5451.data/Pacman_LMDB/into _training from folder 241\n",
      "Storing 801.data/Pacman_LMDB/into _training from folder 242\n",
      "Storing 233.data/Pacman_LMDB/into _training from folder 245\n",
      "Storing 3663.data/Pacman_LMDB/into _training from folder 248\n",
      "Storing 232.data/Pacman_LMDB/into _training from folder 249\n",
      "Storing 788.data/Pacman_LMDB/into _training from folder 250\n",
      "Storing 5546.data/Pacman_LMDB/into _training from folder 255\n",
      "Storing 3768.data/Pacman_LMDB/into _training from folder 256\n",
      "Storing 2005.data/Pacman_LMDB/into _training from folder 257\n",
      "Storing 1511.data/Pacman_LMDB/into _training from folder 259\n",
      "Storing 2588.data/Pacman_LMDB/into _training from folder 260\n",
      "Storing 2838.data/Pacman_LMDB/into _training from folder 261\n",
      "Storing 3562.data/Pacman_LMDB/into _training from folder 263\n",
      "Storing 5769.data/Pacman_LMDB/into _training from folder 267\n",
      "Storing 287.data/Pacman_LMDB/into _training from folder 270\n",
      "Storing 2142.data/Pacman_LMDB/into _training from folder 271\n",
      "Storing 3262.data/Pacman_LMDB/into _training from folder 273\n",
      "Storing 5739.data/Pacman_LMDB/into _training from folder 274\n",
      "Storing 208.data/Pacman_LMDB/into _training from folder 277\n",
      "Storing 1836.data/Pacman_LMDB/into _training from folder 278\n",
      "Storing 3535.data/Pacman_LMDB/into _training from folder 281\n",
      "Storing 1325.data/Pacman_LMDB/into _training from folder 282\n",
      "Storing 2213.data/Pacman_LMDB/into _training from folder 285\n",
      "Storing 4553.data/Pacman_LMDB/into _training from folder 287\n",
      "Storing 211.data/Pacman_LMDB/into _training from folder 289\n",
      "Storing 3648.data/Pacman_LMDB/into _training from folder 291\n",
      "Storing 3557.data/Pacman_LMDB/into _training from folder 292\n",
      "Storing 3591.data/Pacman_LMDB/into _training from folder 294\n",
      "Storing 2563.data/Pacman_LMDB/into _training from folder 297\n",
      "Storing 3765.data/Pacman_LMDB/into _training from folder 299\n",
      "Storing 4987.data/Pacman_LMDB/into _training from folder 300\n",
      "Storing 4280.data/Pacman_LMDB/into _training from folder 302\n",
      "Storing 4183.data/Pacman_LMDB/into _training from folder 303\n",
      "Storing 2690.data/Pacman_LMDB/into _training from folder 304\n",
      "Storing 4030.data/Pacman_LMDB/into _training from folder 309\n",
      "Storing 326.data/Pacman_LMDB/into _training from folder 312\n",
      "Storing 7850.data/Pacman_LMDB/into _training from folder 314\n",
      "Storing 2823.data/Pacman_LMDB/into _training from folder 316\n",
      "Storing 3577.data/Pacman_LMDB/into _training from folder 317\n",
      "Storing 1794.data/Pacman_LMDB/into _training from folder 321\n",
      "Storing 678.data/Pacman_LMDB/into _training from folder 323\n",
      "Storing 3455.data/Pacman_LMDB/into _training from folder 324\n",
      "Storing 3539.data/Pacman_LMDB/into _training from folder 325\n",
      "Storing 3675.data/Pacman_LMDB/into _training from folder 326\n",
      "Storing 2230.data/Pacman_LMDB/into _training from folder 328\n",
      "Storing 198.data/Pacman_LMDB/into _training from folder 329\n",
      "Storing 3730.data/Pacman_LMDB/into _training from folder 330\n",
      "Storing 3423.data/Pacman_LMDB/into _training from folder 333\n",
      "Storing 1732.data/Pacman_LMDB/into _training from folder 334\n",
      "Storing 193.data/Pacman_LMDB/into _training from folder 339\n",
      "Storing 1988.data/Pacman_LMDB/into _training from folder 346\n",
      "Storing 421.data/Pacman_LMDB/into _training from folder 347\n",
      "Storing 1068.data/Pacman_LMDB/into _training from folder 348\n",
      "Storing 3102.data/Pacman_LMDB/into _training from folder 350\n",
      "Storing 2443.data/Pacman_LMDB/into _training from folder 351\n",
      "Storing 5434.data/Pacman_LMDB/into _training from folder 352\n",
      "Storing 3140.data/Pacman_LMDB/into _training from folder 353\n",
      "Storing 2469.data/Pacman_LMDB/into _training from folder 358\n",
      "Storing 194.data/Pacman_LMDB/into _training from folder 359\n",
      "Storing 242.data/Pacman_LMDB/into _training from folder 360\n",
      "Storing 2193.data/Pacman_LMDB/into _training from folder 363\n",
      "Storing 3416.data/Pacman_LMDB/into _training from folder 364\n",
      "Storing 236.data/Pacman_LMDB/into _training from folder 365\n",
      "Storing 491.data/Pacman_LMDB/into _training from folder 367\n",
      "Storing 190.data/Pacman_LMDB/into _training from folder 368\n",
      "Storing 5276.data/Pacman_LMDB/into _training from folder 369\n",
      "Storing 2546.data/Pacman_LMDB/into _training from folder 370\n",
      "Storing 8057.data/Pacman_LMDB/into _training from folder 382\n",
      "Storing 2415.data/Pacman_LMDB/into _training from folder 388\n",
      "Storing 3719.data/Pacman_LMDB/into _training from folder 389\n",
      "Storing 2240.data/Pacman_LMDB/into _training from folder 390\n",
      "Storing 2521.data/Pacman_LMDB/into _training from folder 392\n",
      "Storing 3582.data/Pacman_LMDB/into _training from folder 393\n",
      "Storing 3208.data/Pacman_LMDB/into _training from folder 394\n",
      "Storing 3447.data/Pacman_LMDB/into _training from folder 395\n",
      "Storing 4457.data/Pacman_LMDB/into _training from folder 396\n",
      "Storing 634.data/Pacman_LMDB/into _training from folder 397\n",
      "Storing 203.data/Pacman_LMDB/into _training from folder 398\n",
      "Storing 3105.data/Pacman_LMDB/into _training from folder 399\n",
      "Storing 1593.data/Pacman_LMDB/into _training from folder 400\n",
      "Storing 5113.data/Pacman_LMDB/into _training from folder 401\n",
      "Storing 3778.data/Pacman_LMDB/into _training from folder 402\n",
      "Storing 4089.data/Pacman_LMDB/into _training from folder 403\n",
      "Storing 202.data/Pacman_LMDB/into _training from folder 404\n",
      "Storing 780.data/Pacman_LMDB/into _training from folder 405\n",
      "Storing 5740.data/Pacman_LMDB/into _training from folder 407\n",
      "Storing 5968.data/Pacman_LMDB/into _training from folder 408\n",
      "Storing 2277.data/Pacman_LMDB/into _training from folder 410\n",
      "Storing 3574.data/Pacman_LMDB/into _training from folder 411\n",
      "Storing 1992.data/Pacman_LMDB/into _training from folder 412\n",
      "Storing 2268.data/Pacman_LMDB/into _training from folder 413\n",
      "Storing 2963.data/Pacman_LMDB/into _training from folder 414\n",
      "Storing 1281.data/Pacman_LMDB/into _training from folder 415\n",
      "Storing 3123.data/Pacman_LMDB/into _training from folder 419\n",
      "Storing 242.data/Pacman_LMDB/into _training from folder 420\n",
      "Storing 2674.data/Pacman_LMDB/into _training from folder 421\n",
      "Storing 5290.data/Pacman_LMDB/into _training from folder 422\n",
      "Storing 459.data/Pacman_LMDB/into _training from folder 423\n",
      "Storing 1651.data/Pacman_LMDB/into _training from folder 424\n",
      "Storing 6272.data/Pacman_LMDB/into _training from folder 425\n",
      "Storing 3776.data/Pacman_LMDB/into _training from folder 427\n",
      "Storing 3241.data/Pacman_LMDB/into _training from folder 428\n",
      "Storing 2765.data/Pacman_LMDB/into _training from folder 429\n",
      "Storing 1696.data/Pacman_LMDB/into _training from folder 430\n",
      "Storing 2247.data/Pacman_LMDB/into _training from folder 432\n",
      "Storing 974.data/Pacman_LMDB/into _training from folder 433\n",
      "Storing 795.data/Pacman_LMDB/into _training from folder 434\n",
      "Storing 2608.data/Pacman_LMDB/into _training from folder 435\n",
      "Storing 3665.data/Pacman_LMDB/into _training from folder 436\n",
      "Storing 191.data/Pacman_LMDB/into _training from folder 438\n",
      "Storing 3818.data/Pacman_LMDB/into _training from folder 443\n",
      "Storing 1089.data/Pacman_LMDB/into _training from folder 444\n",
      "Storing 1895.data/Pacman_LMDB/into _training from folder 446\n",
      "Storing 3233.data/Pacman_LMDB/into _training from folder 448\n",
      "Storing 2823.data/Pacman_LMDB/into _training from folder 451\n",
      "Storing 3168.data/Pacman_LMDB/into _training from folder 452\n",
      "Storing 2792.data/Pacman_LMDB/into _training from folder 453\n",
      "Storing 2062.data/Pacman_LMDB/into _training from folder 456\n",
      "Storing 5285.data/Pacman_LMDB/into _training from folder 457\n",
      "Storing 2752.data/Pacman_LMDB/into _training from folder 458\n",
      "Storing 3021.data/Pacman_LMDB/into _training from folder 461\n",
      "Storing 3530.data/Pacman_LMDB/into _training from folder 462\n",
      "Storing 3013.data/Pacman_LMDB/into _training from folder 463\n",
      "Storing 6332.data/Pacman_LMDB/into _training from folder 466\n",
      "Storing 4354.data/Pacman_LMDB/into _training from folder 467\n"
     ]
    },
    {
     "name": "stdout",
     "output_type": "stream",
     "text": [
      "Storing 3290.data/Pacman_LMDB/into _training from folder 470\n",
      "Storing 5059.data/Pacman_LMDB/into _training from folder 471\n",
      "Storing 2122.data/Pacman_LMDB/into _training from folder 474\n",
      "Storing 2328.data/Pacman_LMDB/into _training from folder 477\n",
      "Storing 3832.data/Pacman_LMDB/into _training from folder 478\n",
      "Storing 2021.data/Pacman_LMDB/into _training from folder 480\n",
      "Storing 4666.data/Pacman_LMDB/into _training from folder 482\n",
      "Storing 6012.data/Pacman_LMDB/into _training from folder 483\n",
      "Storing 2435.data/Pacman_LMDB/into _training from folder 484\n",
      "Storing 205.data/Pacman_LMDB/into _training from folder 496\n",
      "Storing 199.data/Pacman_LMDB/into _training from folder 498\n",
      "Storing 7580.data/Pacman_LMDB/into _training from folder 499\n",
      "Storing 1346.data/Pacman_LMDB/into _training from folder 504\n",
      "Storing 2283.data/Pacman_LMDB/into _training from folder 506\n",
      "Storing 2493.data/Pacman_LMDB/into _training from folder 507\n",
      "Storing 3260.data/Pacman_LMDB/into _training from folder 510\n",
      "Storing 2241.data/Pacman_LMDB/into _training from folder 511\n",
      "Storing 3066.data/Pacman_LMDB/into _training from folder 514\n",
      "Storing 3511.data/Pacman_LMDB/into _training from folder 515\n",
      "Storing 3577.data/Pacman_LMDB/into _training from folder 516\n",
      "Storing 3434.data/Pacman_LMDB/into _training from folder 517\n",
      "Storing 4217.data/Pacman_LMDB/into _training from folder 518\n",
      "Storing 2689.data/Pacman_LMDB/into _training from folder 519\n",
      "Storing 6561.data/Pacman_LMDB/into _training from folder 520\n",
      "Storing 4027.data/Pacman_LMDB/into _training from folder 521\n",
      "Storing 4454.data/Pacman_LMDB/into _training from folder 522\n",
      "Storing 1201.data/Pacman_LMDB/into _training from folder 523\n",
      "Storing 544.data/Pacman_LMDB/into _training from folder 524\n",
      "Storing 2244.data/Pacman_LMDB/into _training from folder 525\n",
      "Storing 3720.data/Pacman_LMDB/into _training from folder 526\n",
      "Storing 539.data/Pacman_LMDB/into _training from folder 527\n",
      "Storing 7058.data/Pacman_LMDB/into _training from folder 531\n",
      "Storing 5034.data/Pacman_LMDB/into _training from folder 532\n",
      "Storing 1127.data/Pacman_LMDB/into _training from folder 533\n",
      "Storing 1450.data/Pacman_LMDB/into _training from folder 534\n",
      "Storing 1541.data/Pacman_LMDB/into _training from folder 535\n",
      "Storing 3075.data/Pacman_LMDB/into _training from folder 536\n",
      "Storing 2103.data/Pacman_LMDB/into _training from folder 538\n",
      "Storing 1850.data/Pacman_LMDB/into _training from folder 540\n",
      "Storing 1643.data/Pacman_LMDB/into _training from folder 544\n",
      "Storing 3070.data/Pacman_LMDB/into _training from folder 546\n",
      "Storing 1750.data/Pacman_LMDB/into _training from folder 547\n",
      "Storing 437.data/Pacman_LMDB/into _training from folder 548\n",
      "Storing 333.data/Pacman_LMDB/into _training from folder 550\n",
      "Storing 3945.data/Pacman_LMDB/into _training from folder 552\n",
      "Storing 3074.data/Pacman_LMDB/into _training from folder 553\n",
      "Storing 567.data/Pacman_LMDB/into _training from folder 554\n",
      "Storing 2899.data/Pacman_LMDB/into _training from folder 557\n",
      "Storing 3906.data/Pacman_LMDB/into _training from folder 558\n",
      "Storing 3133.data/Pacman_LMDB/into _training from folder 559\n",
      "Storing 4010.data/Pacman_LMDB/into _training from folder 560\n",
      "Storing 4511.data/Pacman_LMDB/into _training from folder 561\n",
      "Storing 2006.data/Pacman_LMDB/into _training from folder 562\n",
      "Storing 3147.data/Pacman_LMDB/into _training from folder 563\n",
      "Storing 1539.data/Pacman_LMDB/into _training from folder 564\n",
      "Storing 224.data/Pacman_LMDB/into _training from folder 565\n",
      "Storing 5983.data/Pacman_LMDB/into _training from folder 567\n",
      "Storing 3101.data/Pacman_LMDB/into _training from folder 568\n",
      "Storing 3194.data/Pacman_LMDB/into _training from folder 570\n",
      "Storing 2869.data/Pacman_LMDB/into _training from folder 572\n",
      "Storing 3474.data/Pacman_LMDB/into _training from folder 573\n",
      "Storing 2408.data/Pacman_LMDB/into _training from folder 574\n",
      "Storing 2838.data/Pacman_LMDB/into _training from folder 575\n",
      "Storing 4281.data/Pacman_LMDB/into _training from folder 577\n",
      "Storing 4707.data/Pacman_LMDB/into _training from folder 579\n",
      "Storing 4116.data/Pacman_LMDB/into _training from folder 580\n",
      "Storing 1689.data/Pacman_LMDB/into _training from folder 581\n",
      "Storing 765.data/Pacman_LMDB/into _training from folder 582\n",
      "Storing 3144.data/Pacman_LMDB/into _training from folder 583\n",
      "Storing 4202.data/Pacman_LMDB/into _training from folder 584\n",
      "Storing 2548.data/Pacman_LMDB/into _training from folder 585\n",
      "Storing 6229.data/Pacman_LMDB/into _training from folder 586\n",
      "Storing 4662.data/Pacman_LMDB/into _training from folder 587\n",
      "Storing 3620.data/Pacman_LMDB/into _training from folder 588\n",
      "Storing 2771.data/Pacman_LMDB/into _training from folder 589\n",
      "Storing 238.data/Pacman_LMDB/into _training from folder 592\n",
      "Storing 541.data/Pacman_LMDB/into _training from folder 593\n",
      "Storing 2937.data/Pacman_LMDB/into _training from folder 594\n",
      "Storing 2771.data/Pacman_LMDB/into _training from folder 595\n",
      "Storing 914.data/Pacman_LMDB/into _training from folder 596\n",
      "Storing 3220.data/Pacman_LMDB/into _training from folder 597\n",
      "Storing 1478.data/Pacman_LMDB/into _training from folder 598\n",
      "Storing 2327.data/Pacman_LMDB/into _training from folder 599\n",
      "Storing 2377.data/Pacman_LMDB/into _training from folder 600\n",
      "Storing 1943.data/Pacman_LMDB/into _training from folder 601\n",
      "Storing 2940.data/Pacman_LMDB/into _training from folder 602\n",
      "Storing 3820.data/Pacman_LMDB/into _training from folder 603\n",
      "Storing 212.data/Pacman_LMDB/into _training from folder 607\n",
      "Storing 2471.data/Pacman_LMDB/into _training from folder 610\n",
      "Storing 196.data/Pacman_LMDB/into _training from folder 611\n",
      "Storing 3047.data/Pacman_LMDB/into _training from folder 612\n",
      "Storing 3136.data/Pacman_LMDB/into _training from folder 613\n",
      "Storing 3115.data/Pacman_LMDB/into _training from folder 615\n",
      "Storing 7022.data/Pacman_LMDB/into _training from folder 616\n",
      "Storing 5421.data/Pacman_LMDB/into _training from folder 619\n",
      "Storing 1066.data/Pacman_LMDB/into _training from folder 620\n",
      "Storing 2956.data/Pacman_LMDB/into _training from folder 621\n",
      "Storing 2425.data/Pacman_LMDB/into _training from folder 623\n",
      "Storing 205.data/Pacman_LMDB/into _training from folder 624\n",
      "Storing 2626.data/Pacman_LMDB/into _training from folder 625\n",
      "Storing 3070.data/Pacman_LMDB/into _training from folder 628\n",
      "Storing 3909.data/Pacman_LMDB/into _training from folder 630\n",
      "Storing 3332.data/Pacman_LMDB/into _training from folder 631\n",
      "Storing 1012.data/Pacman_LMDB/into _training from folder 633\n",
      "Storing 4451.data/Pacman_LMDB/into _training from folder 634\n",
      "Storing 3276.data/Pacman_LMDB/into _training from folder 635\n",
      "Storing 2594.data/Pacman_LMDB/into _training from folder 637\n",
      "Storing 4490.data/Pacman_LMDB/into _training from folder 638\n",
      "Storing 4203.data/Pacman_LMDB/into _training from folder 639\n",
      "Storing 1680.data/Pacman_LMDB/into _training from folder 640\n",
      "Storing 4708.data/Pacman_LMDB/into _training from folder 641\n"
     ]
    }
   ],
   "source": [
    "transformer.transform_store(labels_fn=get_label_by_filename,image_dir=images_dir, lmdb_dir = '.data/Pacman_LMDB'\n",
    "           ,category='training',target_size=(53,70),color_mode='rgb')"
   ]
  },
  {
   "cell_type": "code",
   "execution_count": 32,
   "metadata": {},
   "outputs": [
    {
     "name": "stdout",
     "output_type": "stream",
     "text": [
      "Total number of imgs for catagory 468474\n",
      "Storing 1933.data/Pacman_LMDB/into _validation from folder 1\n",
      "Storing 392.data/Pacman_LMDB/into _validation from folder 2\n",
      "Storing 98.data/Pacman_LMDB/into _validation from folder 3\n",
      "Storing 97.data/Pacman_LMDB/into _validation from folder 5\n",
      "Storing 627.data/Pacman_LMDB/into _validation from folder 7\n",
      "Storing 471.data/Pacman_LMDB/into _validation from folder 8\n",
      "Storing 589.data/Pacman_LMDB/into _validation from folder 9\n",
      "Storing 458.data/Pacman_LMDB/into _validation from folder 10\n",
      "Storing 942.data/Pacman_LMDB/into _validation from folder 11\n",
      "Storing 1253.data/Pacman_LMDB/into _validation from folder 12\n",
      "Storing 1502.data/Pacman_LMDB/into _validation from folder 13\n",
      "Storing 602.data/Pacman_LMDB/into _validation from folder 14\n",
      "Storing 1584.data/Pacman_LMDB/into _validation from folder 15\n",
      "Storing 2048.data/Pacman_LMDB/into _validation from folder 18\n",
      "Storing 1511.data/Pacman_LMDB/into _validation from folder 19\n",
      "Storing 990.data/Pacman_LMDB/into _validation from folder 21\n",
      "Storing 107.data/Pacman_LMDB/into _validation from folder 24\n",
      "Storing 1779.data/Pacman_LMDB/into _validation from folder 25\n",
      "Storing 908.data/Pacman_LMDB/into _validation from folder 29\n",
      "Storing 724.data/Pacman_LMDB/into _validation from folder 30\n",
      "Storing 1342.data/Pacman_LMDB/into _validation from folder 31\n",
      "Storing 83.data/Pacman_LMDB/into _validation from folder 32\n",
      "Storing 90.data/Pacman_LMDB/into _validation from folder 33\n",
      "Storing 1506.data/Pacman_LMDB/into _validation from folder 35\n",
      "Storing 1553.data/Pacman_LMDB/into _validation from folder 36\n",
      "Storing 1271.data/Pacman_LMDB/into _validation from folder 39\n",
      "Storing 1879.data/Pacman_LMDB/into _validation from folder 40\n",
      "Storing 497.data/Pacman_LMDB/into _validation from folder 47\n",
      "Storing 809.data/Pacman_LMDB/into _validation from folder 48\n",
      "Storing 1261.data/Pacman_LMDB/into _validation from folder 52\n",
      "Storing 84.data/Pacman_LMDB/into _validation from folder 53\n",
      "Storing 2460.data/Pacman_LMDB/into _validation from folder 56\n",
      "Storing 1786.data/Pacman_LMDB/into _validation from folder 60\n",
      "Storing 1792.data/Pacman_LMDB/into _validation from folder 61\n",
      "Storing 1533.data/Pacman_LMDB/into _validation from folder 62\n",
      "Storing 2047.data/Pacman_LMDB/into _validation from folder 63\n",
      "Storing 2374.data/Pacman_LMDB/into _validation from folder 64\n",
      "Storing 754.data/Pacman_LMDB/into _validation from folder 65\n",
      "Storing 990.data/Pacman_LMDB/into _validation from folder 66\n",
      "Storing 1497.data/Pacman_LMDB/into _validation from folder 67\n",
      "Storing 1421.data/Pacman_LMDB/into _validation from folder 68\n",
      "Storing 1026.data/Pacman_LMDB/into _validation from folder 69\n",
      "Storing 1310.data/Pacman_LMDB/into _validation from folder 76\n",
      "Storing 277.data/Pacman_LMDB/into _validation from folder 77\n",
      "Storing 1056.data/Pacman_LMDB/into _validation from folder 78\n",
      "Storing 1158.data/Pacman_LMDB/into _validation from folder 79\n",
      "Storing 1670.data/Pacman_LMDB/into _validation from folder 80\n",
      "Storing 3034.data/Pacman_LMDB/into _validation from folder 81\n",
      "Storing 1502.data/Pacman_LMDB/into _validation from folder 82\n",
      "Storing 1420.data/Pacman_LMDB/into _validation from folder 83\n",
      "Storing 1470.data/Pacman_LMDB/into _validation from folder 84\n",
      "Storing 1529.data/Pacman_LMDB/into _validation from folder 85\n",
      "Storing 1035.data/Pacman_LMDB/into _validation from folder 86\n",
      "Storing 1367.data/Pacman_LMDB/into _validation from folder 87\n",
      "Storing 380.data/Pacman_LMDB/into _validation from folder 88\n",
      "Storing 2137.data/Pacman_LMDB/into _validation from folder 90\n",
      "Storing 952.data/Pacman_LMDB/into _validation from folder 91\n",
      "Storing 2454.data/Pacman_LMDB/into _validation from folder 92\n",
      "Storing 872.data/Pacman_LMDB/into _validation from folder 93\n",
      "Storing 927.data/Pacman_LMDB/into _validation from folder 94\n",
      "Storing 521.data/Pacman_LMDB/into _validation from folder 95\n",
      "Storing 188.data/Pacman_LMDB/into _validation from folder 96\n",
      "Storing 1608.data/Pacman_LMDB/into _validation from folder 97\n",
      "Storing 953.data/Pacman_LMDB/into _validation from folder 98\n",
      "Storing 762.data/Pacman_LMDB/into _validation from folder 99\n",
      "Storing 161.data/Pacman_LMDB/into _validation from folder 100\n",
      "Storing 1734.data/Pacman_LMDB/into _validation from folder 102\n",
      "Storing 2093.data/Pacman_LMDB/into _validation from folder 103\n",
      "Storing 2488.data/Pacman_LMDB/into _validation from folder 107\n",
      "Storing 2141.data/Pacman_LMDB/into _validation from folder 110\n",
      "Storing 1255.data/Pacman_LMDB/into _validation from folder 112\n",
      "Storing 1774.data/Pacman_LMDB/into _validation from folder 113\n",
      "Storing 2025.data/Pacman_LMDB/into _validation from folder 114\n",
      "Storing 375.data/Pacman_LMDB/into _validation from folder 115\n",
      "Storing 789.data/Pacman_LMDB/into _validation from folder 116\n",
      "Storing 1879.data/Pacman_LMDB/into _validation from folder 117\n",
      "Storing 2503.data/Pacman_LMDB/into _validation from folder 119\n",
      "Storing 1030.data/Pacman_LMDB/into _validation from folder 120\n",
      "Storing 119.data/Pacman_LMDB/into _validation from folder 121\n",
      "Storing 681.data/Pacman_LMDB/into _validation from folder 123\n",
      "Storing 752.data/Pacman_LMDB/into _validation from folder 125\n",
      "Storing 1086.data/Pacman_LMDB/into _validation from folder 126\n",
      "Storing 1270.data/Pacman_LMDB/into _validation from folder 127\n",
      "Storing 1359.data/Pacman_LMDB/into _validation from folder 129\n",
      "Storing 171.data/Pacman_LMDB/into _validation from folder 131\n",
      "Storing 987.data/Pacman_LMDB/into _validation from folder 132\n",
      "Storing 1304.data/Pacman_LMDB/into _validation from folder 133\n",
      "Storing 890.data/Pacman_LMDB/into _validation from folder 134\n",
      "Storing 190.data/Pacman_LMDB/into _validation from folder 135\n",
      "Storing 1509.data/Pacman_LMDB/into _validation from folder 136\n",
      "Storing 1801.data/Pacman_LMDB/into _validation from folder 138\n",
      "Storing 1697.data/Pacman_LMDB/into _validation from folder 139\n",
      "Storing 848.data/Pacman_LMDB/into _validation from folder 140\n",
      "Storing 1942.data/Pacman_LMDB/into _validation from folder 141\n",
      "Storing 2749.data/Pacman_LMDB/into _validation from folder 142\n",
      "Storing 948.data/Pacman_LMDB/into _validation from folder 144\n",
      "Storing 2080.data/Pacman_LMDB/into _validation from folder 147\n",
      "Storing 637.data/Pacman_LMDB/into _validation from folder 148\n",
      "Storing 1694.data/Pacman_LMDB/into _validation from folder 149\n",
      "Storing 3156.data/Pacman_LMDB/into _validation from folder 150\n",
      "Storing 2920.data/Pacman_LMDB/into _validation from folder 151\n",
      "Storing 1045.data/Pacman_LMDB/into _validation from folder 152\n",
      "Storing 2806.data/Pacman_LMDB/into _validation from folder 153\n",
      "Storing 87.data/Pacman_LMDB/into _validation from folder 157\n",
      "Storing 1251.data/Pacman_LMDB/into _validation from folder 162\n",
      "Storing 84.data/Pacman_LMDB/into _validation from folder 167\n",
      "Storing 1720.data/Pacman_LMDB/into _validation from folder 168\n",
      "Storing 4370.data/Pacman_LMDB/into _validation from folder 169\n",
      "Storing 1368.data/Pacman_LMDB/into _validation from folder 171\n",
      "Storing 232.data/Pacman_LMDB/into _validation from folder 172\n",
      "Storing 464.data/Pacman_LMDB/into _validation from folder 173\n",
      "Storing 270.data/Pacman_LMDB/into _validation from folder 174\n",
      "Storing 1984.data/Pacman_LMDB/into _validation from folder 175\n",
      "Storing 1903.data/Pacman_LMDB/into _validation from folder 176\n",
      "Storing 635.data/Pacman_LMDB/into _validation from folder 177\n",
      "Storing 3549.data/Pacman_LMDB/into _validation from folder 178\n",
      "Storing 2144.data/Pacman_LMDB/into _validation from folder 179\n",
      "Storing 2043.data/Pacman_LMDB/into _validation from folder 180\n",
      "Storing 696.data/Pacman_LMDB/into _validation from folder 182\n",
      "Storing 2142.data/Pacman_LMDB/into _validation from folder 183\n",
      "Storing 1620.data/Pacman_LMDB/into _validation from folder 184\n",
      "Storing 994.data/Pacman_LMDB/into _validation from folder 186\n",
      "Storing 890.data/Pacman_LMDB/into _validation from folder 187\n",
      "Storing 1923.data/Pacman_LMDB/into _validation from folder 188\n",
      "Storing 162.data/Pacman_LMDB/into _validation from folder 189\n",
      "Storing 1154.data/Pacman_LMDB/into _validation from folder 190\n",
      "Storing 544.data/Pacman_LMDB/into _validation from folder 192\n",
      "Storing 1407.data/Pacman_LMDB/into _validation from folder 193\n",
      "Storing 1673.data/Pacman_LMDB/into _validation from folder 202\n",
      "Storing 577.data/Pacman_LMDB/into _validation from folder 203\n",
      "Storing 1440.data/Pacman_LMDB/into _validation from folder 204\n",
      "Storing 2297.data/Pacman_LMDB/into _validation from folder 206\n"
     ]
    },
    {
     "name": "stdout",
     "output_type": "stream",
     "text": [
      "Storing 89.data/Pacman_LMDB/into _validation from folder 209\n",
      "Storing 507.data/Pacman_LMDB/into _validation from folder 210\n",
      "Storing 2131.data/Pacman_LMDB/into _validation from folder 212\n",
      "Storing 98.data/Pacman_LMDB/into _validation from folder 215\n",
      "Storing 920.data/Pacman_LMDB/into _validation from folder 216\n",
      "Storing 847.data/Pacman_LMDB/into _validation from folder 218\n",
      "Storing 812.data/Pacman_LMDB/into _validation from folder 219\n",
      "Storing 926.data/Pacman_LMDB/into _validation from folder 223\n",
      "Storing 1715.data/Pacman_LMDB/into _validation from folder 224\n",
      "Storing 864.data/Pacman_LMDB/into _validation from folder 236\n",
      "Storing 1796.data/Pacman_LMDB/into _validation from folder 237\n",
      "Storing 430.data/Pacman_LMDB/into _validation from folder 238\n",
      "Storing 717.data/Pacman_LMDB/into _validation from folder 239\n",
      "Storing 935.data/Pacman_LMDB/into _validation from folder 240\n",
      "Storing 2337.data/Pacman_LMDB/into _validation from folder 241\n",
      "Storing 344.data/Pacman_LMDB/into _validation from folder 242\n",
      "Storing 100.data/Pacman_LMDB/into _validation from folder 245\n",
      "Storing 1571.data/Pacman_LMDB/into _validation from folder 248\n",
      "Storing 100.data/Pacman_LMDB/into _validation from folder 249\n",
      "Storing 339.data/Pacman_LMDB/into _validation from folder 250\n",
      "Storing 2377.data/Pacman_LMDB/into _validation from folder 255\n",
      "Storing 1615.data/Pacman_LMDB/into _validation from folder 256\n",
      "Storing 860.data/Pacman_LMDB/into _validation from folder 257\n",
      "Storing 648.data/Pacman_LMDB/into _validation from folder 259\n",
      "Storing 1110.data/Pacman_LMDB/into _validation from folder 260\n",
      "Storing 1217.data/Pacman_LMDB/into _validation from folder 261\n",
      "Storing 1527.data/Pacman_LMDB/into _validation from folder 263\n",
      "Storing 2473.data/Pacman_LMDB/into _validation from folder 267\n",
      "Storing 123.data/Pacman_LMDB/into _validation from folder 270\n",
      "Storing 919.data/Pacman_LMDB/into _validation from folder 271\n",
      "Storing 1399.data/Pacman_LMDB/into _validation from folder 273\n",
      "Storing 2460.data/Pacman_LMDB/into _validation from folder 274\n",
      "Storing 90.data/Pacman_LMDB/into _validation from folder 277\n",
      "Storing 787.data/Pacman_LMDB/into _validation from folder 278\n",
      "Storing 1516.data/Pacman_LMDB/into _validation from folder 281\n",
      "Storing 568.data/Pacman_LMDB/into _validation from folder 282\n",
      "Storing 949.data/Pacman_LMDB/into _validation from folder 285\n",
      "Storing 1952.data/Pacman_LMDB/into _validation from folder 287\n",
      "Storing 91.data/Pacman_LMDB/into _validation from folder 289\n",
      "Storing 1564.data/Pacman_LMDB/into _validation from folder 291\n",
      "Storing 1525.data/Pacman_LMDB/into _validation from folder 292\n",
      "Storing 1540.data/Pacman_LMDB/into _validation from folder 294\n",
      "Storing 1099.data/Pacman_LMDB/into _validation from folder 297\n",
      "Storing 1614.data/Pacman_LMDB/into _validation from folder 299\n",
      "Storing 2138.data/Pacman_LMDB/into _validation from folder 300\n",
      "Storing 1835.data/Pacman_LMDB/into _validation from folder 302\n",
      "Storing 1793.data/Pacman_LMDB/into _validation from folder 303\n",
      "Storing 1153.data/Pacman_LMDB/into _validation from folder 304\n",
      "Storing 1728.data/Pacman_LMDB/into _validation from folder 309\n",
      "Storing 141.data/Pacman_LMDB/into _validation from folder 312\n",
      "Storing 3365.data/Pacman_LMDB/into _validation from folder 314\n",
      "Storing 1210.data/Pacman_LMDB/into _validation from folder 316\n",
      "Storing 1534.data/Pacman_LMDB/into _validation from folder 317\n",
      "Storing 770.data/Pacman_LMDB/into _validation from folder 321\n",
      "Storing 291.data/Pacman_LMDB/into _validation from folder 323\n",
      "Storing 1481.data/Pacman_LMDB/into _validation from folder 324\n",
      "Storing 1518.data/Pacman_LMDB/into _validation from folder 325\n",
      "Storing 1575.data/Pacman_LMDB/into _validation from folder 326\n",
      "Storing 957.data/Pacman_LMDB/into _validation from folder 328\n",
      "Storing 85.data/Pacman_LMDB/into _validation from folder 329\n",
      "Storing 1599.data/Pacman_LMDB/into _validation from folder 330\n",
      "Storing 1467.data/Pacman_LMDB/into _validation from folder 333\n",
      "Storing 743.data/Pacman_LMDB/into _validation from folder 334\n",
      "Storing 83.data/Pacman_LMDB/into _validation from folder 339\n",
      "Storing 853.data/Pacman_LMDB/into _validation from folder 346\n",
      "Storing 181.data/Pacman_LMDB/into _validation from folder 347\n",
      "Storing 459.data/Pacman_LMDB/into _validation from folder 348\n",
      "Storing 1330.data/Pacman_LMDB/into _validation from folder 350\n",
      "Storing 1048.data/Pacman_LMDB/into _validation from folder 351\n",
      "Storing 2330.data/Pacman_LMDB/into _validation from folder 352\n",
      "Storing 1346.data/Pacman_LMDB/into _validation from folder 353\n",
      "Storing 1059.data/Pacman_LMDB/into _validation from folder 358\n",
      "Storing 84.data/Pacman_LMDB/into _validation from folder 359\n",
      "Storing 104.data/Pacman_LMDB/into _validation from folder 360\n",
      "Storing 941.data/Pacman_LMDB/into _validation from folder 363\n",
      "Storing 1464.data/Pacman_LMDB/into _validation from folder 364\n",
      "Storing 102.data/Pacman_LMDB/into _validation from folder 365\n",
      "Storing 211.data/Pacman_LMDB/into _validation from folder 367\n",
      "Storing 82.data/Pacman_LMDB/into _validation from folder 368\n",
      "Storing 2262.data/Pacman_LMDB/into _validation from folder 369\n",
      "Storing 1092.data/Pacman_LMDB/into _validation from folder 370\n",
      "Storing 3454.data/Pacman_LMDB/into _validation from folder 382\n",
      "Storing 1035.data/Pacman_LMDB/into _validation from folder 388\n",
      "Storing 1595.data/Pacman_LMDB/into _validation from folder 389\n",
      "Storing 960.data/Pacman_LMDB/into _validation from folder 390\n",
      "Storing 1081.data/Pacman_LMDB/into _validation from folder 392\n",
      "Storing 1536.data/Pacman_LMDB/into _validation from folder 393\n",
      "Storing 1376.data/Pacman_LMDB/into _validation from folder 394\n",
      "Storing 1478.data/Pacman_LMDB/into _validation from folder 395\n",
      "Storing 1911.data/Pacman_LMDB/into _validation from folder 396\n",
      "Storing 272.data/Pacman_LMDB/into _validation from folder 397\n",
      "Storing 87.data/Pacman_LMDB/into _validation from folder 398\n",
      "Storing 1332.data/Pacman_LMDB/into _validation from folder 399\n",
      "Storing 684.data/Pacman_LMDB/into _validation from folder 400\n",
      "Storing 2192.data/Pacman_LMDB/into _validation from folder 401\n",
      "Storing 1620.data/Pacman_LMDB/into _validation from folder 402\n",
      "Storing 1753.data/Pacman_LMDB/into _validation from folder 403\n",
      "Storing 87.data/Pacman_LMDB/into _validation from folder 404\n",
      "Storing 335.data/Pacman_LMDB/into _validation from folder 405\n",
      "Storing 2461.data/Pacman_LMDB/into _validation from folder 407\n",
      "Storing 2559.data/Pacman_LMDB/into _validation from folder 408\n",
      "Storing 977.data/Pacman_LMDB/into _validation from folder 410\n",
      "Storing 1533.data/Pacman_LMDB/into _validation from folder 411\n",
      "Storing 854.data/Pacman_LMDB/into _validation from folder 412\n",
      "Storing 972.data/Pacman_LMDB/into _validation from folder 413\n",
      "Storing 1270.data/Pacman_LMDB/into _validation from folder 414\n",
      "Storing 549.data/Pacman_LMDB/into _validation from folder 415\n",
      "Storing 1339.data/Pacman_LMDB/into _validation from folder 419\n",
      "Storing 104.data/Pacman_LMDB/into _validation from folder 420\n",
      "Storing 1147.data/Pacman_LMDB/into _validation from folder 421\n",
      "Storing 2268.data/Pacman_LMDB/into _validation from folder 422\n",
      "Storing 197.data/Pacman_LMDB/into _validation from folder 423\n",
      "Storing 708.data/Pacman_LMDB/into _validation from folder 424\n",
      "Storing 2689.data/Pacman_LMDB/into _validation from folder 425\n",
      "Storing 1619.data/Pacman_LMDB/into _validation from folder 427\n",
      "Storing 1389.data/Pacman_LMDB/into _validation from folder 428\n",
      "Storing 1185.data/Pacman_LMDB/into _validation from folder 429\n",
      "Storing 728.data/Pacman_LMDB/into _validation from folder 430\n",
      "Storing 964.data/Pacman_LMDB/into _validation from folder 432\n",
      "Storing 418.data/Pacman_LMDB/into _validation from folder 433\n",
      "Storing 342.data/Pacman_LMDB/into _validation from folder 434\n",
      "Storing 1119.data/Pacman_LMDB/into _validation from folder 435\n",
      "Storing 1571.data/Pacman_LMDB/into _validation from folder 436\n",
      "Storing 82.data/Pacman_LMDB/into _validation from folder 438\n",
      "Storing 1637.data/Pacman_LMDB/into _validation from folder 443\n",
      "Storing 467.data/Pacman_LMDB/into _validation from folder 444\n",
      "Storing 813.data/Pacman_LMDB/into _validation from folder 446\n",
      "Storing 1386.data/Pacman_LMDB/into _validation from folder 448\n",
      "Storing 1211.data/Pacman_LMDB/into _validation from folder 451\n",
      "Storing 1359.data/Pacman_LMDB/into _validation from folder 452\n",
      "Storing 1197.data/Pacman_LMDB/into _validation from folder 453\n",
      "Storing 884.data/Pacman_LMDB/into _validation from folder 456\n"
     ]
    },
    {
     "name": "stdout",
     "output_type": "stream",
     "text": [
      "Storing 2265.data/Pacman_LMDB/into _validation from folder 457\n",
      "Storing 1180.data/Pacman_LMDB/into _validation from folder 458\n",
      "Storing 1296.data/Pacman_LMDB/into _validation from folder 461\n",
      "Storing 1513.data/Pacman_LMDB/into _validation from folder 462\n",
      "Storing 1292.data/Pacman_LMDB/into _validation from folder 463\n",
      "Storing 2714.data/Pacman_LMDB/into _validation from folder 466\n",
      "Storing 1867.data/Pacman_LMDB/into _validation from folder 467\n",
      "Storing 1411.data/Pacman_LMDB/into _validation from folder 470\n",
      "Storing 2169.data/Pacman_LMDB/into _validation from folder 471\n",
      "Storing 910.data/Pacman_LMDB/into _validation from folder 474\n",
      "Storing 999.data/Pacman_LMDB/into _validation from folder 477\n",
      "Storing 1643.data/Pacman_LMDB/into _validation from folder 478\n",
      "Storing 867.data/Pacman_LMDB/into _validation from folder 480\n",
      "Storing 2001.data/Pacman_LMDB/into _validation from folder 482\n",
      "Storing 2577.data/Pacman_LMDB/into _validation from folder 483\n",
      "Storing 1044.data/Pacman_LMDB/into _validation from folder 484\n",
      "Storing 89.data/Pacman_LMDB/into _validation from folder 496\n",
      "Storing 86.data/Pacman_LMDB/into _validation from folder 498\n",
      "Storing 3249.data/Pacman_LMDB/into _validation from folder 499\n",
      "Storing 578.data/Pacman_LMDB/into _validation from folder 504\n",
      "Storing 979.data/Pacman_LMDB/into _validation from folder 506\n",
      "Storing 1069.data/Pacman_LMDB/into _validation from folder 507\n",
      "Storing 1398.data/Pacman_LMDB/into _validation from folder 510\n",
      "Storing 961.data/Pacman_LMDB/into _validation from folder 511\n",
      "Storing 1315.data/Pacman_LMDB/into _validation from folder 514\n",
      "Storing 1505.data/Pacman_LMDB/into _validation from folder 515\n",
      "Storing 1533.data/Pacman_LMDB/into _validation from folder 516\n",
      "Storing 1472.data/Pacman_LMDB/into _validation from folder 517\n",
      "Storing 1808.data/Pacman_LMDB/into _validation from folder 518\n",
      "Storing 1153.data/Pacman_LMDB/into _validation from folder 519\n",
      "Storing 2813.data/Pacman_LMDB/into _validation from folder 520\n",
      "Storing 1726.data/Pacman_LMDB/into _validation from folder 521\n",
      "Storing 1909.data/Pacman_LMDB/into _validation from folder 522\n",
      "Storing 515.data/Pacman_LMDB/into _validation from folder 523\n",
      "Storing 234.data/Pacman_LMDB/into _validation from folder 524\n",
      "Storing 962.data/Pacman_LMDB/into _validation from folder 525\n",
      "Storing 1595.data/Pacman_LMDB/into _validation from folder 526\n",
      "Storing 231.data/Pacman_LMDB/into _validation from folder 527\n",
      "Storing 3025.data/Pacman_LMDB/into _validation from folder 531\n",
      "Storing 2158.data/Pacman_LMDB/into _validation from folder 532\n",
      "Storing 484.data/Pacman_LMDB/into _validation from folder 533\n",
      "Storing 622.data/Pacman_LMDB/into _validation from folder 534\n",
      "Storing 661.data/Pacman_LMDB/into _validation from folder 535\n",
      "Storing 1318.data/Pacman_LMDB/into _validation from folder 536\n",
      "Storing 902.data/Pacman_LMDB/into _validation from folder 538\n",
      "Storing 793.data/Pacman_LMDB/into _validation from folder 540\n",
      "Storing 705.data/Pacman_LMDB/into _validation from folder 544\n",
      "Storing 1317.data/Pacman_LMDB/into _validation from folder 546\n",
      "Storing 751.data/Pacman_LMDB/into _validation from folder 547\n",
      "Storing 188.data/Pacman_LMDB/into _validation from folder 548\n",
      "Storing 144.data/Pacman_LMDB/into _validation from folder 550\n",
      "Storing 1692.data/Pacman_LMDB/into _validation from folder 552\n",
      "Storing 1318.data/Pacman_LMDB/into _validation from folder 553\n",
      "Storing 243.data/Pacman_LMDB/into _validation from folder 554\n",
      "Storing 1243.data/Pacman_LMDB/into _validation from folder 557\n",
      "Storing 1674.data/Pacman_LMDB/into _validation from folder 558\n",
      "Storing 1344.data/Pacman_LMDB/into _validation from folder 559\n",
      "Storing 1719.data/Pacman_LMDB/into _validation from folder 560\n",
      "Storing 1934.data/Pacman_LMDB/into _validation from folder 561\n",
      "Storing 861.data/Pacman_LMDB/into _validation from folder 562\n",
      "Storing 1349.data/Pacman_LMDB/into _validation from folder 563\n",
      "Storing 660.data/Pacman_LMDB/into _validation from folder 564\n",
      "Storing 96.data/Pacman_LMDB/into _validation from folder 565\n",
      "Storing 2565.data/Pacman_LMDB/into _validation from folder 567\n",
      "Storing 1330.data/Pacman_LMDB/into _validation from folder 568\n",
      "Storing 1370.data/Pacman_LMDB/into _validation from folder 570\n",
      "Storing 1230.data/Pacman_LMDB/into _validation from folder 572\n",
      "Storing 1490.data/Pacman_LMDB/into _validation from folder 573\n",
      "Storing 1033.data/Pacman_LMDB/into _validation from folder 574\n",
      "Storing 1217.data/Pacman_LMDB/into _validation from folder 575\n",
      "Storing 1835.data/Pacman_LMDB/into _validation from folder 577\n",
      "Storing 2018.data/Pacman_LMDB/into _validation from folder 579\n",
      "Storing 1765.data/Pacman_LMDB/into _validation from folder 580\n",
      "Storing 724.data/Pacman_LMDB/into _validation from folder 581\n",
      "Storing 329.data/Pacman_LMDB/into _validation from folder 582\n",
      "Storing 1348.data/Pacman_LMDB/into _validation from folder 583\n",
      "Storing 1802.data/Pacman_LMDB/into _validation from folder 584\n",
      "Storing 1093.data/Pacman_LMDB/into _validation from folder 585\n",
      "Storing 2670.data/Pacman_LMDB/into _validation from folder 586\n",
      "Storing 1998.data/Pacman_LMDB/into _validation from folder 587\n",
      "Storing 1552.data/Pacman_LMDB/into _validation from folder 588\n",
      "Storing 1188.data/Pacman_LMDB/into _validation from folder 589\n",
      "Storing 103.data/Pacman_LMDB/into _validation from folder 592\n",
      "Storing 233.data/Pacman_LMDB/into _validation from folder 593\n",
      "Storing 1259.data/Pacman_LMDB/into _validation from folder 594\n",
      "Storing 1188.data/Pacman_LMDB/into _validation from folder 595\n",
      "Storing 393.data/Pacman_LMDB/into _validation from folder 596\n",
      "Storing 1380.data/Pacman_LMDB/into _validation from folder 597\n",
      "Storing 634.data/Pacman_LMDB/into _validation from folder 598\n",
      "Storing 998.data/Pacman_LMDB/into _validation from folder 599\n",
      "Storing 1020.data/Pacman_LMDB/into _validation from folder 600\n",
      "Storing 834.data/Pacman_LMDB/into _validation from folder 601\n",
      "Storing 1261.data/Pacman_LMDB/into _validation from folder 602\n",
      "Storing 1638.data/Pacman_LMDB/into _validation from folder 603\n",
      "Storing 92.data/Pacman_LMDB/into _validation from folder 607\n",
      "Storing 1059.data/Pacman_LMDB/into _validation from folder 610\n",
      "Storing 84.data/Pacman_LMDB/into _validation from folder 611\n",
      "Storing 1307.data/Pacman_LMDB/into _validation from folder 612\n",
      "Storing 1344.data/Pacman_LMDB/into _validation from folder 613\n",
      "Storing 1336.data/Pacman_LMDB/into _validation from folder 615\n",
      "Storing 3010.data/Pacman_LMDB/into _validation from folder 616\n",
      "Storing 2324.data/Pacman_LMDB/into _validation from folder 619\n",
      "Storing 458.data/Pacman_LMDB/into _validation from folder 620\n",
      "Storing 1267.data/Pacman_LMDB/into _validation from folder 621\n",
      "Storing 1040.data/Pacman_LMDB/into _validation from folder 623\n",
      "Storing 88.data/Pacman_LMDB/into _validation from folder 624\n",
      "Storing 1126.data/Pacman_LMDB/into _validation from folder 625\n",
      "Storing 1316.data/Pacman_LMDB/into _validation from folder 628\n",
      "Storing 1676.data/Pacman_LMDB/into _validation from folder 630\n",
      "Storing 1429.data/Pacman_LMDB/into _validation from folder 631\n",
      "Storing 435.data/Pacman_LMDB/into _validation from folder 633\n",
      "Storing 1908.data/Pacman_LMDB/into _validation from folder 634\n",
      "Storing 1405.data/Pacman_LMDB/into _validation from folder 635\n",
      "Storing 1113.data/Pacman_LMDB/into _validation from folder 637\n",
      "Storing 1925.data/Pacman_LMDB/into _validation from folder 638\n",
      "Storing 1802.data/Pacman_LMDB/into _validation from folder 639\n",
      "Storing 721.data/Pacman_LMDB/into _validation from folder 640\n",
      "Storing 2018.data/Pacman_LMDB/into _validation from folder 641\n"
     ]
    }
   ],
   "source": [
    "transformer.transform_store(labels_fn=get_label_by_filename,image_dir=images_dir, lmdb_dir = '.data/Pacman_LMDB'\n",
    "           ,category='validation',target_size=(53,70),color_mode='rgb')"
   ]
  },
  {
   "cell_type": "markdown",
   "metadata": {},
   "source": [
    "# Read the lmdb "
   ]
  },
  {
   "cell_type": "markdown",
   "metadata": {},
   "source": [
    "#Todo\n",
    " - Env put outside of loops for write and read\n",
    " - Try the Dynamic code again with clean kernel \n",
    " - Create Standartize as an option"
   ]
  },
  {
   "cell_type": "code",
   "execution_count": 15,
   "metadata": {},
   "outputs": [],
   "source": [
    "import lmdb\n",
    "import pickle\n",
    "\n",
    "def read_many_lmdb(lmdb_dir, num_images):\n",
    "\n",
    "    images, labels = [], {}\n",
    "    env = lmdb.open(lmdb_dir, readonly=True)\n",
    "\n",
    "    # Start a new read transaction\n",
    "    with env.begin() as txn:\n",
    "        # Read all images in one single transaction, with one lock\n",
    "        # We could split this up into multiple transactions if needed\n",
    "        for image_id in range(num_images):\n",
    "            data = txn.get(f\"{image_id:08}\".encode(\"ascii\"))\n",
    "            # Remember that it's a CIFAR_Image object \n",
    "            # that is stored as the value\n",
    "            dataset = pickle.loads(data)\n",
    "            images.append(dataset.get_image())\n",
    "            \n",
    "            labels_list = [attr for attr in dir(dataset) if not callable(getattr(dataset, attr)) and (not attr.startswith(\"__\")) and \n",
    "                           (not attr in ['image','channels',  'size'] )]\n",
    "\n",
    "            for label in labels_list:\n",
    "                # _lab = {label: eval(f'dataset.{label}')}\n",
    "#                 print({label: eval(f'dataset.{label}')})\n",
    "                # labels = {**labels, **_lab}\n",
    "                if label in labels:\n",
    "                    labels[label].append(eval(f'dataset.{label}'))\n",
    "                else:\n",
    "                    labels = {label: [eval(f'dataset.{label}')] }\n",
    "                \n",
    "    env.close()\n",
    "    return {'images': images, **labels}"
   ]
  },
  {
   "cell_type": "code",
   "execution_count": 16,
   "metadata": {},
   "outputs": [],
   "source": [
    "ds = read_many_lmdb('/home/azeghost/git/lmdb_new/LMDB_Datasets/.data/Pokemon_LMDB/_training', 591)"
   ]
  },
  {
   "cell_type": "code",
   "execution_count": 17,
   "metadata": {},
   "outputs": [
    {
     "data": {
      "text/plain": [
       "dict_keys(['images', 'label'])"
      ]
     },
     "execution_count": 17,
     "metadata": {},
     "output_type": "execute_result"
    }
   ],
   "source": [
    "ds.keys()"
   ]
  },
  {
   "cell_type": "code",
   "execution_count": 18,
   "metadata": {
    "scrolled": true
   },
   "outputs": [
    {
     "data": {
      "text/plain": [
       "(100, 100, 3)"
      ]
     },
     "execution_count": 18,
     "metadata": {},
     "output_type": "execute_result"
    }
   ],
   "source": [
    "ds['images'][0].shape"
   ]
  },
  {
   "cell_type": "code",
   "execution_count": 24,
   "metadata": {},
   "outputs": [
    {
     "data": {
      "text/plain": [
       "'562'"
      ]
     },
     "execution_count": 24,
     "metadata": {},
     "output_type": "execute_result"
    }
   ],
   "source": [
    "ds['label'][21]"
   ]
  },
  {
   "cell_type": "code",
   "execution_count": null,
   "metadata": {
    "scrolled": true
   },
   "outputs": [],
   "source": [
    "ad = np.array(ds)\n",
    "ad"
   ]
  },
  {
   "cell_type": "code",
   "execution_count": 32,
   "metadata": {},
   "outputs": [
    {
     "data": {
      "text/plain": [
       "(591, 100, 100, 3)"
      ]
     },
     "execution_count": 32,
     "metadata": {},
     "output_type": "execute_result"
    }
   ],
   "source": [
    "np.array(ds['images']).shape"
   ]
  },
  {
   "cell_type": "code",
   "execution_count": 33,
   "metadata": {
    "scrolled": true
   },
   "outputs": [
    {
     "data": {
      "text/plain": [
       "(591,)"
      ]
     },
     "execution_count": 33,
     "metadata": {},
     "output_type": "execute_result"
    }
   ],
   "source": [
    "np.array(ds['label']).shape"
   ]
  },
  {
   "cell_type": "code",
   "execution_count": 25,
   "metadata": {
    "scrolled": false
   },
   "outputs": [
    {
     "ename": "ValueError",
     "evalue": "too many values to unpack (expected 2)",
     "output_type": "error",
     "traceback": [
      "\u001b[0;31m---------------------------------------------------------------------------\u001b[0m",
      "\u001b[0;31mValueError\u001b[0m                                Traceback (most recent call last)",
      "\u001b[0;32m<ipython-input-25-3a18307d3c3f>\u001b[0m in \u001b[0;36m<module>\u001b[0;34m\u001b[0m\n\u001b[0;32m----> 1\u001b[0;31m \u001b[0;32mfor\u001b[0m \u001b[0mk\u001b[0m\u001b[0;34m,\u001b[0m \u001b[0mval\u001b[0m \u001b[0;32min\u001b[0m \u001b[0mds\u001b[0m\u001b[0;34m:\u001b[0m\u001b[0;34m\u001b[0m\u001b[0;34m\u001b[0m\u001b[0m\n\u001b[0m\u001b[1;32m      2\u001b[0m     \u001b[0mprint\u001b[0m\u001b[0;34m(\u001b[0m\u001b[0mk\u001b[0m\u001b[0;34m,\u001b[0m\u001b[0mstr\u001b[0m\u001b[0;34m(\u001b[0m\u001b[0mval\u001b[0m\u001b[0;34m)\u001b[0m\u001b[0;34m)\u001b[0m\u001b[0;34m\u001b[0m\u001b[0;34m\u001b[0m\u001b[0m\n",
      "\u001b[0;31mValueError\u001b[0m: too many values to unpack (expected 2)"
     ]
    }
   ],
   "source": [
    "for k, val in ds:\n",
    "    print(k,str(val))"
   ]
  },
  {
   "cell_type": "code",
   "execution_count": 20,
   "metadata": {},
   "outputs": [
    {
     "data": {
      "text/plain": [
       "'795'"
      ]
     },
     "execution_count": 20,
     "metadata": {},
     "output_type": "execute_result"
    }
   ],
   "source": [
    "ds['label'][0]"
   ]
  },
  {
   "cell_type": "markdown",
   "metadata": {},
   "source": [
    "# Zip and upload to git"
   ]
  },
  {
   "cell_type": "code",
   "execution_count": null,
   "metadata": {},
   "outputs": [],
   "source": [
    "import os\n",
    "os.chdir('/home/azeghost/git/lmdb_new/LMDB_Datasets/.data/')"
   ]
  },
  {
   "cell_type": "code",
   "execution_count": null,
   "metadata": {},
   "outputs": [],
   "source": [
    "!tar -cvjf pokemon.tar.bz Pokemon_LMDB/* "
   ]
  },
  {
   "cell_type": "code",
   "execution_count": null,
   "metadata": {},
   "outputs": [],
   "source": [
    "!split -b 50M pokemon.tar.bz \"pokemon.tar.part\"\n",
    "#split -b <max size> <name of zip or dir to zip/name> <split file name beginning>"
   ]
  },
  {
   "cell_type": "code",
   "execution_count": null,
   "metadata": {},
   "outputs": [],
   "source": [
    "#Check if they are created\n",
    "!ls -lh pokemon.tar.part*"
   ]
  },
  {
   "cell_type": "code",
   "execution_count": null,
   "metadata": {
    "scrolled": false
   },
   "outputs": [],
   "source": [
    "!ls -la"
   ]
  },
  {
   "cell_type": "code",
   "execution_count": null,
   "metadata": {},
   "outputs": [],
   "source": [
    "#move to correct folder and push to git\n",
    "# !mkdir /home/azeghost/git/LMDB_Datasets/pokemon\n",
    "# !mv pokemon.tar.part* /home/azeghost/git/Generative_Models/data/.pokemon\n",
    "# !ls -la /home/azeghost/git/Generative_Models/data/.pokemon "
   ]
  },
  {
   "cell_type": "markdown",
   "metadata": {},
   "source": [
    "# Combine Them"
   ]
  },
  {
   "cell_type": "code",
   "execution_count": null,
   "metadata": {},
   "outputs": [],
   "source": [
    "#pokemon_training\n",
    "!cat pokemon.tar.part* > pokemon_combined.tar.bz\n",
    "#!cat <split files put * at the end> > <final zip name>\n",
    "!ls -la \n",
    "!pwd"
   ]
  },
  {
   "cell_type": "code",
   "execution_count": null,
   "metadata": {},
   "outputs": [],
   "source": [
    "!mkdir ./.test"
   ]
  },
  {
   "cell_type": "code",
   "execution_count": null,
   "metadata": {
    "scrolled": true
   },
   "outputs": [],
   "source": [
    "!tar -xf pokemon_combined.tar.bz --directory ./.test"
   ]
  },
  {
   "cell_type": "code",
   "execution_count": null,
   "metadata": {
    "scrolled": true
   },
   "outputs": [],
   "source": [
    "!ls -la ./.test/Pokemon_LMDB"
   ]
  },
  {
   "cell_type": "code",
   "execution_count": null,
   "metadata": {},
   "outputs": [],
   "source": [
    "# !rm -rf ./.test"
   ]
  },
  {
   "cell_type": "markdown",
   "metadata": {},
   "source": [
    "## LMDBImageIterator and LMDBImageGenerator"
   ]
  },
  {
   "cell_type": "code",
   "execution_count": null,
   "metadata": {},
   "outputs": [],
   "source": [
    "os.chdir('/home/azeghost/git/Generative_Models/')"
   ]
  },
  {
   "cell_type": "code",
   "execution_count": null,
   "metadata": {},
   "outputs": [],
   "source": [
    "os.getcwd()"
   ]
  },
  {
   "cell_type": "code",
   "execution_count": null,
   "metadata": {},
   "outputs": [],
   "source": [
    "import os\n",
    "import numpy as np\n",
    "import tensorflow as tf\n",
    "from keras.preprocessing.image import Iterator, load_img, img_to_array, array_to_img\n",
    "from keras import backend as K\n",
    "import logging\n",
    "from utils.reporting.logging import log_message\n",
    "from utils.data_and_files.file_utils import get_file_path\n",
    "\n",
    "class LMDBImageIterator(Iterator):\n",
    "\n",
    "\n",
    "    def __init__(self,\n",
    "                 num_images,\n",
    "                 category,\n",
    "                 lmdb_dir,\n",
    "                 batch_size,\n",
    "                 episode_len=20,\n",
    "                 episode_shift=10,\n",
    "                 shuffle=True,\n",
    "                 seed=None,\n",
    "                 save_to_dir=None,\n",
    "                 save_prefix='',\n",
    "                 save_format='jpeg',\n",
    "                 dtype=K.floatx(),\n",
    "                 ):\n",
    "        \n",
    "        self.category = category\n",
    "        self.batch_size = batch_size\n",
    "        \n",
    "        \n",
    "        self.lmdb_dir = lmdb_dir\n",
    "        self.episode_len = episode_len\n",
    "        self.episode_shift = episode_shift\n",
    "\n",
    "        \n",
    "        self.save_to_dir = save_to_dir\n",
    "        self.save_prefix = save_prefix\n",
    "        self.save_format = save_format\n",
    "        print(\"Initializing Iterator \" + category +\" Number of images \" +str(num_images))\n",
    "        print(category,lmdb_dir, batch_size,shuffle,seed)\n",
    "        self.env = lmdb.open(lmdb_dir, readonly=True)\n",
    "        \n",
    "        Iterator.__init__(self, num_images, batch_size, shuffle, seed)\n",
    "        \n",
    "        \n",
    "    def __del__(self):\n",
    "        self.env.close()\n",
    "        \n",
    "        \n",
    "    def _get_batches_of_transformed_samples(self, index_array):\n",
    "        print(index_array)\n",
    "        images, labels = [], []\n",
    "        \n",
    "        if len(index_array) < self.batch_size:\n",
    "            diff = self.batch_size//len(index_array) + 1\n",
    "            index_array = np.repeat(index_array, diff, axis=0)[:self.batch_size]\n",
    "\n",
    "        else:\n",
    "                with self.env.begin() as txn:\n",
    "                    for image_id in index_array:\n",
    "                        data = txn.get(f\"{image_id:08}\".encode(\"ascii\"))\n",
    "                        dataset = pickle.loads(data)\n",
    "                        images.append(dataset.get_image())\n",
    "                        labels_list = [attr for attr in dir(dataset) if not callable(getattr(dataset, attr)) and (not attr.startswith(\"__\")) and \n",
    "                           (not attr in ['image','channels',  'size'] )]\n",
    "\n",
    "                        for label in labels_list:\n",
    "                            _lab = {label: eval(f'dataset.{label}')}\n",
    "                            labels = {**labels, **_lab}\n",
    "        return {'images': images, **labels}\n"
   ]
  },
  {
   "cell_type": "code",
   "execution_count": null,
   "metadata": {},
   "outputs": [],
   "source": [
    "import glob\n",
    "import hashlib\n",
    "import logging\n",
    "import os\n",
    "import re\n",
    "import warnings\n",
    "\n",
    "from keras.preprocessing.image import ImageDataGenerator\n",
    "\n",
    "from utils.data_and_files.data_utils import as_bytes\n",
    "from utils.reporting.logging import log_message\n",
    "\n",
    "\n",
    "class LMDBImageGenerator(ImageDataGenerator):\n",
    "    def flow_from_lmdb_lists(self, \n",
    "                              num_images,\n",
    "                              category,\n",
    "                              lmdb_dir,\n",
    "                              batch_size,\n",
    "                              episode_len=None,\n",
    "                              episode_shift=None,\n",
    "                              color_mode='rgb',\n",
    "                              shuffle =True,\n",
    "                              seed=None\n",
    "                              ):\n",
    "\n",
    "        \n",
    "          \n",
    "\n",
    "        return LMDBImageIterator(\n",
    "                             num_images = num_images,\n",
    "                             category = category,\n",
    "                             lmdb_dir = lmdb_dir,\n",
    "                             batch_size  = batch_size,\n",
    "                             episode_len = episode_len,\n",
    "                             episode_shift =episode_shift,\n",
    "                             shuffle = shuffle,\n",
    "                             seed = seed)\n",
    "\n",
    "\n",
    "def get_generators( val_lmdb_dir, val_num_images, tra_lmdb_dir, tra_num_images, \n",
    "                   batch_size, episode_len=None, episode_shift=None):\n",
    "\n",
    "    train_datagen = LMDBImageGenerator()\n",
    "\n",
    "    valid_datagen = LMDBImageGenerator()\n",
    "\n",
    "    train_generator = train_datagen.flow_from_lmdb_lists(\n",
    "        num_images = tra_num_images,\n",
    "        category='training',\n",
    "        lmdb_dir=tra_lmdb_dir,\n",
    "        batch_size=batch_size,\n",
    "        episode_len=episode_len,\n",
    "        episode_shift=episode_shift,\n",
    "        seed=0)\n",
    "\n",
    "    validation_generator = valid_datagen.flow_from_lmdb_lists(\n",
    "        num_images = val_num_images,\n",
    "        category='validation',\n",
    "        lmdb_dir=val_lmdb_dir,\n",
    "        batch_size=batch_size,\n",
    "        episode_len=episode_len,\n",
    "        episode_shift=episode_shift,\n",
    "        seed=0)\n",
    "\n",
    "    return train_generator, validation_generator\n",
    "\n"
   ]
  },
  {
   "cell_type": "code",
   "execution_count": null,
   "metadata": {},
   "outputs": [],
   "source": [
    "training_generator, testing_generator = get_generators(\n",
    "    val_lmdb_dir = '/home/azeghost/git/lmdb_new/LMDB_Datasets/.data/Pokemon_LMDB/_validation',\n",
    "    val_num_images = 218,\n",
    "    tra_lmdb_dir = '/home/azeghost/git/lmdb_new/LMDB_Datasets/.data/Pokemon_LMDB/_training', \n",
    "    tra_num_images = 591,\n",
    "    batch_size=100\n",
    ")"
   ]
  },
  {
   "cell_type": "code",
   "execution_count": null,
   "metadata": {
    "scrolled": false
   },
   "outputs": [],
   "source": [
    "x, y = training_generator.next()"
   ]
  },
  {
   "cell_type": "code",
   "execution_count": null,
   "metadata": {},
   "outputs": [],
   "source": []
  },
  {
   "cell_type": "markdown",
   "metadata": {},
   "source": [
    "#  Scale test for Pokemon "
   ]
  },
  {
   "cell_type": "code",
   "execution_count": null,
   "metadata": {},
   "outputs": [],
   "source": [
    "import os\n",
    "os.chdir('/home/azeghost/git/LMDB_Datasets')"
   ]
  },
  {
   "cell_type": "code",
   "execution_count": null,
   "metadata": {},
   "outputs": [],
   "source": [
    "#Wrapper class for dataset\n",
    "class Pokemon_Image:\n",
    "    def __init__(self, image, label):\n",
    "        self.channels = image.shape[2]\n",
    "        self.size = image.shape[:2]\n",
    "        self.image = image.tobytes()\n",
    "        self.label = label #additional data to be stored (make it string)\n",
    "\n",
    "    def get_image(self):\n",
    "        \"\"\" Returns the image as a numpy array. \"\"\"\n",
    "        images = np.frombuffer(self.image, dtype=np.float32) #pay attention if you  don't use create_image_lists\n",
    "        return images.reshape(*self.size, self.channels)     #then dtype will be different"
   ]
  },
  {
   "cell_type": "code",
   "execution_count": null,
   "metadata": {},
   "outputs": [],
   "source": [
    "def store_single_lmdb(filename, img , index, label, num_images):\n",
    "    \"\"\" Stores a wrapper to LMDB.\n",
    "    \"\"\"\n",
    "    map_size = num_images * img.nbytes * 10\n",
    "    env = lmdb.open(filename, map_size=map_size)\n",
    "\n",
    "    # Same as before — but let's write all the images in a single transaction\n",
    "    with env.begin(write=True) as txn:\n",
    "          # All key-value pairs need to be Strings\n",
    "          value = Pokemon_Image(img, label)\n",
    "          key = f\"{index:08}\"\n",
    "          txn.put(key.encode(\"ascii\"), pickle.dumps(value))\n",
    "\n",
    "    env.close()"
   ]
  },
  {
   "cell_type": "code",
   "execution_count": null,
   "metadata": {},
   "outputs": [],
   "source": [
    "def store_lmdb(image_lists, image_dir, \n",
    "               lmdb_dir = '/content/LMDB',category='training', target_size=None,\n",
    "               color_mode='rgb', save_prefix='', save_format='png'):\n",
    "  classes = list(image_lists.keys())\n",
    "  num_class = len(classes)\n",
    "  class2id = dict(zip(classes, range(len(classes))))\n",
    "  id2class = dict((v, k) for k, v in class2id.items())\n",
    " \n",
    "  y = None\n",
    "  X = None\n",
    "\n",
    "  for label_name in classes:\n",
    "    num_images = len(image_lists[label_name][category])\n",
    "    print('Storing '+ str(num_images)+lmdb_dir+os.sep+'_{}'.format(category))\n",
    "    for index, _ in enumerate(image_lists[label_name][category]):\n",
    "        img_path = get_file_path(image_lists,\n",
    "                                  label_name,\n",
    "                                  index,\n",
    "                                  image_dir,\n",
    "                                  category)\n",
    "        img = img_to_array(\n",
    "                        load_img(\n",
    "                        img_path,\n",
    "                        grayscale=color_mode=='grayscale',\n",
    "                        target_size=target_size\n",
    "                        )\n",
    "                    )\n",
    "        name, _ = os.path.splitext(img_path)\n",
    "        vid_img_arr = name.split(sep=os.sep)[-1:]\n",
    "        y = [np.array(vid_img_arr)]     \n",
    "        name =  lmdb_dir+os.sep+'_{}'.format(category)\n",
    "        \n",
    "        store_single_lmdb(index = index, filename=name, img = img,label = y ,num_images = num_images)"
   ]
  },
  {
   "cell_type": "code",
   "execution_count": null,
   "metadata": {},
   "outputs": [],
   "source": [
    "class LMDB_transformer:\n",
    "    def __init(image_lists**, )\n",
    "        create_img_list\n",
    "    \n",
    "    def transform_store():\n",
    "        store_lmdb()"
   ]
  },
  {
   "cell_type": "code",
   "execution_count": null,
   "metadata": {},
   "outputs": [],
   "source": [
    "!rm -rf ./LMDB/\n",
    "!mkdir ./LMDB/\n",
    "# save_to_dir=None,\n",
    "store_lmdb(image_lists, image_dir=images_dir, lmdb_dir = './LMDB'\n",
    "           ,category='training',target_size=None,color_mode='rgb',save_prefix='',save_format='png')\n",
    "store_lmdb(image_lists, image_dir=images_dir, lmdb_dir = './LMDB'\n",
    "           ,category='validation',target_size=None,color_mode='rgb',save_prefix='',save_format='png')"
   ]
  },
  {
   "cell_type": "markdown",
   "metadata": {},
   "source": [
    "# Done on ubuntu system is local machine does not have tar \n",
    " - Install git bash then u can use such commands.\n",
    " - Go to windows store and download Ubuntu emulator wich just installs bash\n",
    " - On colab these should work"
   ]
  }
 ],
 "metadata": {
  "kernelspec": {
   "display_name": "Python 3",
   "language": "python",
   "name": "python3"
  },
  "language_info": {
   "codemirror_mode": {
    "name": "ipython",
    "version": 3
   },
   "file_extension": ".py",
   "mimetype": "text/x-python",
   "name": "python",
   "nbconvert_exporter": "python",
   "pygments_lexer": "ipython3",
   "version": "3.8.5"
  }
 },
 "nbformat": 4,
 "nbformat_minor": 4
}
