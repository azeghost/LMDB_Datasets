{
 "cells": [
  {
   "cell_type": "markdown",
   "metadata": {},
   "source": [
    "# Setting up required packages and code from old repo"
   ]
  },
  {
   "cell_type": "code",
   "execution_count": null,
   "metadata": {},
   "outputs": [],
   "source": [
    "!git clone https://github.com/kkahloots/Generative_Models.git # this is for loading git with correct brach"
   ]
  },
  {
   "cell_type": "code",
   "execution_count": null,
   "metadata": {},
   "outputs": [],
   "source": [
    "!pip -q install keras\n",
    "!pip -q install colorlog\n",
    "!pip -q install keras-radam\n",
    "!pip -q install lmdb\n",
    "!pip -q install Pillow"
   ]
  },
  {
   "cell_type": "code",
   "execution_count": null,
   "metadata": {},
   "outputs": [],
   "source": [
    "import os\n",
    "os.chdir('./Generative_Models/') # adress to git dir\n",
    "print(os.getcwd())\n",
    "from training.generators.file_image_generator import create_image_lists, get_generators\n",
    "import numpy as np\n",
    "import lmdb\n",
    "import pickle\n",
    "import sys\n",
    "from keras.preprocessing.image import Iterator, load_img, img_to_array, array_to_img\n",
    "from utils.data_and_files.file_utils import get_file_path"
   ]
  },
  {
   "cell_type": "markdown",
   "metadata": {},
   "source": [
    "# Store images in lmdb"
   ]
  },
  {
   "cell_type": "code",
   "execution_count": null,
   "metadata": {},
   "outputs": [],
   "source": [
    "images_dir = './data/.pokemon/' #Folder to images\n",
    "validation_percentage = 30\n",
    "valid_format = 'png'"
   ]
  },
  {
   "cell_type": "code",
   "execution_count": null,
   "metadata": {},
   "outputs": [],
   "source": [
    "image_lists = create_image_lists(\n",
    "    image_dir=images_dir, \n",
    "    validation_pct=validation_percentage, \n",
    "    valid_imgae_formats=valid_format,\n",
    "    verbose = 1\n",
    ")"
   ]
  },
  {
   "cell_type": "code",
   "execution_count": null,
   "metadata": {},
   "outputs": [],
   "source": [
    "#Wrapper class for dataset\n",
    "class Pokemon_Image:\n",
    "    def __init__(self, image, label):\n",
    "        self.channels = image.shape[2]\n",
    "        self.size = image.shape[:2]\n",
    "        self.image = image.tobytes()\n",
    "        self.label = label #additional data to be stored (make it string)\n",
    "\n",
    "    def get_image(self):\n",
    "        \"\"\" Returns the image as a numpy array. \"\"\"\n",
    "        images = np.frombuffer(self.image, dtype=np.float32) #pay attention if you  don't use create_image_lists\n",
    "        return images.reshape(*self.size, self.channels)     #then dtype will be different"
   ]
  },
  {
   "cell_type": "code",
   "execution_count": null,
   "metadata": {},
   "outputs": [],
   "source": [
    "def store_single_lmdb(filename, img , index, label, num_images):\n",
    "    \"\"\" Stores a wrapper to LMDB.\n",
    "    \"\"\"\n",
    "    map_size = num_images * img.nbytes * 10\n",
    "    env = lmdb.open(filename, map_size=map_size)\n",
    "\n",
    "    # Same as before — but let's write all the images in a single transaction\n",
    "    with env.begin(write=True) as txn:\n",
    "          # All key-value pairs need to be Strings\n",
    "          value = Pokemon_Image(img, label)\n",
    "          key = f\"{index:08}\"\n",
    "          txn.put(key.encode(\"ascii\"), pickle.dumps(value))\n",
    "\n",
    "    env.close()"
   ]
  },
  {
   "cell_type": "code",
   "execution_count": null,
   "metadata": {},
   "outputs": [],
   "source": [
    "def store_lmdb(image_lists, image_dir, \n",
    "               lmdb_dir = '/content/LMDB',category='training', target_size=None,\n",
    "               color_mode='rgb', save_prefix='', save_format='png'):\n",
    "  classes = list(image_lists.keys())\n",
    "  num_class = len(classes)\n",
    "  class2id = dict(zip(classes, range(len(classes))))\n",
    "  id2class = dict((v, k) for k, v in class2id.items())\n",
    " \n",
    "  y = None\n",
    "  X = None\n",
    "\n",
    "  for label_name in classes:\n",
    "    num_images = len(image_lists[label_name][category])\n",
    "    print('Storing '+ str(num_images)+lmdb_dir+os.sep+'_{}'.format(category))\n",
    "    for index, _ in enumerate(image_lists[label_name][category]):\n",
    "        img_path = get_file_path(image_lists,\n",
    "                                  label_name,\n",
    "                                  index,\n",
    "                                  image_dir,\n",
    "                                  category)\n",
    "        img = img_to_array(\n",
    "                        load_img(\n",
    "                        img_path,\n",
    "                        grayscale=color_mode=='grayscale',\n",
    "                        target_size=target_size\n",
    "                        )\n",
    "                    )\n",
    "        name, _ = os.path.splitext(img_path)\n",
    "        vid_img_arr = name.split(sep=os.sep)[-1:]\n",
    "        y = [np.array(vid_img_arr)]     \n",
    "        name =  lmdb_dir+os.sep+'_{}'.format(category)\n",
    "        \n",
    "        store_single_lmdb(index = index, filename=name, img = img,label = y ,num_images = num_images)"
   ]
  },
  {
   "cell_type": "code",
   "execution_count": null,
   "metadata": {},
   "outputs": [],
   "source": [
    "!rm -rf ./LMDB/\n",
    "!mkdir ./LMDB/\n",
    "# save_to_dir=None,\n",
    "store_lmdb(image_lists, image_dir=images_dir, lmdb_dir = './LMDB'\n",
    "           ,category='training',target_size=None,color_mode='rgb',save_prefix='',save_format='png')\n",
    "store_lmdb(image_lists, image_dir=images_dir, lmdb_dir = './LMDB'\n",
    "           ,category='validation',target_size=None,color_mode='rgb',save_prefix='',save_format='png')"
   ]
  },
  {
   "cell_type": "markdown",
   "metadata": {},
   "source": [
    "# Done on ubuntu system is local machine does not have tar \n",
    " - Install git bash then u can use such commands.\n",
    " - Go to windows store and download Ubuntu emulator wich just installs bash\n",
    " - On colab these should work"
   ]
  },
  {
   "cell_type": "markdown",
   "metadata": {},
   "source": [
    " ## For Training"
   ]
  },
  {
   "cell_type": "code",
   "execution_count": 22,
   "metadata": {
    "scrolled": true
   },
   "outputs": [
    {
     "name": "stdout",
     "output_type": "stream",
     "text": [
      "tar: Removing leading `/' from member names\n",
      "/home/azeghost/git/Generative_Models/LMDB/_training/data.mdb\n",
      "/home/azeghost/git/Generative_Models/LMDB/_training/lock.mdb\n"
     ]
    }
   ],
   "source": [
    "!tar -cvjf pokemon_training.tar.bz2 /home/azeghost/git/Generative_Models/LMDB/_training/* "
   ]
  },
  {
   "cell_type": "code",
   "execution_count": 23,
   "metadata": {},
   "outputs": [],
   "source": [
    "!split -b 10M pokemon_training.tar.bz2 \"pokemon_training.tar.part\"\n",
    "#split -b <max size> <name of zip or dir to zip/name> <split file name beginning>"
   ]
  },
  {
   "cell_type": "code",
   "execution_count": 24,
   "metadata": {},
   "outputs": [
    {
     "name": "stdout",
     "output_type": "stream",
     "text": [
      "-rw-r--r-- 1 azeghost azeghost  10M Jul  1 22:35 pokemon_training.tar.partaa\r\n",
      "-rw-r--r-- 1 azeghost azeghost  10M Jul  1 22:35 pokemon_training.tar.partab\r\n",
      "-rw-r--r-- 1 azeghost azeghost  10M Jul  1 22:35 pokemon_training.tar.partac\r\n",
      "-rw-r--r-- 1 azeghost azeghost  10M Jul  1 22:35 pokemon_training.tar.partad\r\n",
      "-rw-r--r-- 1 azeghost azeghost 4.4M Jul  1 22:35 pokemon_training.tar.partae\r\n"
     ]
    }
   ],
   "source": [
    "#Check if they are created\n",
    "!ls -lh pokemon_training.tar.part*"
   ]
  },
  {
   "cell_type": "code",
   "execution_count": 28,
   "metadata": {},
   "outputs": [
    {
     "name": "stdout",
     "output_type": "stream",
     "text": [
      "mkdir: cannot create directory ‘/home/azeghost/git/LMDB_Datasets/pokemon’: File exists\n",
      "mv: cannot stat 'pokemon_training.tar.part*': No such file or directory\n",
      "total 90912\n",
      "drwxr-xr-x 2 azeghost azeghost     4096 Jul  1 22:36 .\n",
      "drwxr-xr-x 6 azeghost azeghost     4096 Jul  1 22:31 ..\n",
      "-rw-r--r-- 1 azeghost azeghost 10485760 Jul  1 22:35 pokemon_training.tar.partaa\n",
      "-rw-r--r-- 1 azeghost azeghost 10485760 Jul  1 22:35 pokemon_training.tar.partab\n",
      "-rw-r--r-- 1 azeghost azeghost 10485760 Jul  1 22:35 pokemon_training.tar.partac\n",
      "-rw-r--r-- 1 azeghost azeghost 10485760 Jul  1 22:35 pokemon_training.tar.partad\n",
      "-rw-r--r-- 1 azeghost azeghost  4597619 Jul  1 22:35 pokemon_training.tar.partae\n",
      "-rw-r--r-- 1 azeghost azeghost 46540659 Jul  1 22:30 pokemon_validation.tar.partaa\n"
     ]
    }
   ],
   "source": [
    "#move to correct folder and push to git\n",
    "!mkdir /home/azeghost/git/LMDB_Datasets/pokemon\n",
    "!mv pokemon_training.tar.part* /home/azeghost/git/LMDB_Datasets/pokemon\n",
    "!ls -la /home/azeghost/git/LMDB_Datasets/pokemon "
   ]
  },
  {
   "cell_type": "code",
   "execution_count": 29,
   "metadata": {},
   "outputs": [],
   "source": [
    "# push to git\n",
    "# !cd /home/azeghost/git/LMDB_Datasets\n",
    "# !git add ../pokemon/*\n",
    "# # !git status\n",
    "# !git commit -m \"pokemon_training\"\n",
    "# !git push orign master # Check if you have ssh token enabled for bash use otherwise enter login and password"
   ]
  },
  {
   "cell_type": "markdown",
   "metadata": {},
   "source": [
    "## For validation"
   ]
  },
  {
   "cell_type": "code",
   "execution_count": 12,
   "metadata": {
    "scrolled": true
   },
   "outputs": [
    {
     "name": "stdout",
     "output_type": "stream",
     "text": [
      "tar: Removing leading `/' from member names\n",
      "/home/azeghost/git/Generative_Models/LMDB/_validation/data.mdb\n",
      "/home/azeghost/git/Generative_Models/LMDB/_validation/lock.mdb\n"
     ]
    }
   ],
   "source": [
    "!tar -cvjf pokemon_validation.tar.bz2 /home/azeghost/git/Generative_Models/LMDB/_validation/* "
   ]
  },
  {
   "cell_type": "code",
   "execution_count": 20,
   "metadata": {},
   "outputs": [
    {
     "name": "stdout",
     "output_type": "stream",
     "text": [
      "-rw-r--r-- 1 azeghost azeghost 45M Jul  1 22:30 pokemon_validation.tar.partaa\r\n"
     ]
    }
   ],
   "source": [
    "!split -b 200M pokemon_training.tar.bz2 \"pokemon_validation.tar.part\"\n",
    "!ls -lh pokemon_validation.tar.part*"
   ]
  },
  {
   "cell_type": "code",
   "execution_count": 21,
   "metadata": {},
   "outputs": [
    {
     "name": "stdout",
     "output_type": "stream",
     "text": [
      "pokemon_validation.tar.partaa\r\n"
     ]
    }
   ],
   "source": [
    "!mkdir /home/azeghost/git/LMDB_Datasets/pokemon\n",
    "!mv pokemon_validation.tar.part* /home/azeghost/git/LMDB_Datasets/pokemon\n",
    "!ls /home/azeghost/git/LMDB_Datasets/pokemon"
   ]
  },
  {
   "cell_type": "code",
   "execution_count": 19,
   "metadata": {},
   "outputs": [],
   "source": [
    "# !cd /home/azeghost/git/LMDB_Datasets\n",
    "# !git add pokemon/*\n",
    "# !git status\n",
    "# !git commit -m \"pokemon_validation\"\n",
    "# !git push orign master"
   ]
  },
  {
   "cell_type": "markdown",
   "metadata": {},
   "source": [
    "# After downloading from Git combine and unzip"
   ]
  },
  {
   "cell_type": "markdown",
   "metadata": {},
   "source": [
    "## combine them"
   ]
  },
  {
   "cell_type": "code",
   "execution_count": 34,
   "metadata": {
    "scrolled": true
   },
   "outputs": [
    {
     "name": "stdout",
     "output_type": "stream",
     "text": [
      "total 181820\r\n",
      "drwxr-xr-x 2 azeghost azeghost     4096 Jul  1 22:40 .\r\n",
      "drwxr-xr-x 6 azeghost azeghost     4096 Jul  1 22:31 ..\r\n",
      "-rw-r--r-- 1 azeghost azeghost 46540659 Jul  1 22:40 pokemon_training.tar.bz2\r\n",
      "-rw-r--r-- 1 azeghost azeghost 10485760 Jul  1 22:35 pokemon_training.tar.partaa\r\n",
      "-rw-r--r-- 1 azeghost azeghost 10485760 Jul  1 22:35 pokemon_training.tar.partab\r\n",
      "-rw-r--r-- 1 azeghost azeghost 10485760 Jul  1 22:35 pokemon_training.tar.partac\r\n",
      "-rw-r--r-- 1 azeghost azeghost 10485760 Jul  1 22:35 pokemon_training.tar.partad\r\n",
      "-rw-r--r-- 1 azeghost azeghost  4597619 Jul  1 22:35 pokemon_training.tar.partae\r\n",
      "-rw-r--r-- 1 azeghost azeghost 46540659 Jul  1 22:39 pokemon_validation.tar.bz2\r\n",
      "-rw-r--r-- 1 azeghost azeghost 46540659 Jul  1 22:30 pokemon_validation.tar.partaa\r\n"
     ]
    }
   ],
   "source": [
    "#pokemon_training\n",
    "!cat /home/azeghost/git/LMDB_Datasets/pokemon/pokemon_training.tar.part* >/home/azeghost/git/LMDB_Datasets/pokemon/pokemon_training.tar.bz2\n",
    "#!cat <split files put * at the end> > <final zip name>\n",
    "!ls -la /home/azeghost/git/LMDB_Datasets/pokemon"
   ]
  },
  {
   "cell_type": "code",
   "execution_count": 35,
   "metadata": {
    "scrolled": true
   },
   "outputs": [
    {
     "name": "stdout",
     "output_type": "stream",
     "text": [
      "total 181816\r\n",
      "drwxr-xr-x 2 azeghost azeghost     4096 Jul  1 22:40 .\r\n",
      "drwxr-xr-x 6 azeghost azeghost     4096 Jul  1 22:31 ..\r\n",
      "-rw-r--r-- 1 azeghost azeghost 46540659 Jul  1 22:40 pokemon_training.tar.bz2\r\n",
      "-rw-r--r-- 1 azeghost azeghost 10485760 Jul  1 22:35 pokemon_training.tar.partaa\r\n",
      "-rw-r--r-- 1 azeghost azeghost 10485760 Jul  1 22:35 pokemon_training.tar.partab\r\n",
      "-rw-r--r-- 1 azeghost azeghost 10485760 Jul  1 22:35 pokemon_training.tar.partac\r\n",
      "-rw-r--r-- 1 azeghost azeghost 10485760 Jul  1 22:35 pokemon_training.tar.partad\r\n",
      "-rw-r--r-- 1 azeghost azeghost  4597619 Jul  1 22:35 pokemon_training.tar.partae\r\n",
      "-rw-r--r-- 1 azeghost azeghost 46540659 Jul  1 22:41 pokemon_validation.tar.bz2\r\n",
      "-rw-r--r-- 1 azeghost azeghost 46540659 Jul  1 22:30 pokemon_validation.tar.partaa\r\n"
     ]
    }
   ],
   "source": [
    "#pokemon_validation\n",
    "!cat /home/azeghost/git/LMDB_Datasets/pokemon/pokemon_validation.tar.part* >/home/azeghost/git/LMDB_Datasets/pokemon/pokemon_validation.tar.bz2\n",
    "!ls -la /home/azeghost/git/LMDB_Datasets/pokemon"
   ]
  },
  {
   "cell_type": "markdown",
   "metadata": {},
   "source": [
    "## Unzip   "
   ]
  },
  {
   "cell_type": "code",
   "execution_count": 37,
   "metadata": {},
   "outputs": [
    {
     "name": "stdout",
     "output_type": "stream",
     "text": [
      "total 40\r\n",
      "drwxr-xr-x 7 azeghost azeghost 4096 Jul  1 22:49 .\r\n",
      "drwxr-xr-x 5 azeghost azeghost 4096 Jun 25 08:39 ..\r\n",
      "drwxr-xr-x 8 azeghost azeghost 4096 Jul  1 22:31 .git\r\n",
      "drwxr-xr-x 3 azeghost azeghost 4096 Jul  1 22:49 home\r\n",
      "drwxrwxr-x 3 azeghost azeghost 4096 Jul  1 22:32 .idea\r\n",
      "-rw-rw-r-- 1 azeghost azeghost 8376 Jul  1 22:24 LMDB_Write_and_Read_R01.ipynb\r\n",
      "drwxr-xr-x 3 azeghost azeghost 4096 Jul  1 22:44 pokemon\r\n",
      "drwxr-xr-x 3 azeghost azeghost 4096 Jul  1 22:49 Pokemon\r\n"
     ]
    }
   ],
   "source": [
    "!tar -xf /home/azeghost/git/LMDB_Datasets/pokemon/pokemon_validation.tar.bz2 -C /home/azeghost/git/LMDB_Datasets\n",
    "!ls -la /home/azeghost/git/LMDB_Datasets"
   ]
  },
  {
   "cell_type": "markdown",
   "metadata": {},
   "source": [
    "# Read the lmdb "
   ]
  },
  {
   "cell_type": "code",
   "execution_count": null,
   "metadata": {},
   "outputs": [],
   "source": [
    "def read_many_lmdb(lmdb_dir, num_images):\n",
    "\n",
    "    images, labels = [], []\n",
    "    env = lmdb.open(lmdb_dir, readonly=True)\n",
    "\n",
    "    # Start a new read transaction\n",
    "    with env.begin() as txn:\n",
    "        # Read all images in one single transaction, with one lock\n",
    "        # We could split this up into multiple transactions if needed\n",
    "        for image_id in range(num_images):\n",
    "            data = txn.get(f\"{image_id:08}\".encode(\"ascii\"))\n",
    "            # Remember that it's a CIFAR_Image object \n",
    "            # that is stored as the value\n",
    "            pokemon_image = pickle.loads(data)\n",
    "            images.append(pokemon_image.get_image())\n",
    "            labels.append(pokemon_image.label)\n",
    "    env.close()\n",
    "    return images, labels"
   ]
  },
  {
   "cell_type": "code",
   "execution_count": null,
   "metadata": {},
   "outputs": [],
   "source": [
    "x, y = read_many_lmdb('./LMDB/_validation', 218)"
   ]
  }
 ],
 "metadata": {
  "kernelspec": {
   "display_name": "Python 3",
   "language": "python",
   "name": "python3"
  },
  "language_info": {
   "codemirror_mode": {
    "name": "ipython",
    "version": 3
   },
   "file_extension": ".py",
   "mimetype": "text/x-python",
   "name": "python",
   "nbconvert_exporter": "python",
   "pygments_lexer": "ipython3",
   "version": "3.8.3"
  }
 },
 "nbformat": 4,
 "nbformat_minor": 4
}
