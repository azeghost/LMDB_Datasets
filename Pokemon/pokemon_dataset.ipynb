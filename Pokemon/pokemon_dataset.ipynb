{
  "nbformat": 4,
  "nbformat_minor": 0,
  "metadata": {
    "kernelspec": {
      "display_name": "Python 3",
      "language": "python",
      "name": "python3"
    },
    "language_info": {
      "codemirror_mode": {
        "name": "ipython",
        "version": 3
      },
      "file_extension": ".py",
      "mimetype": "text/x-python",
      "name": "python",
      "nbconvert_exporter": "python",
      "pygments_lexer": "ipython3",
      "version": "3.7.7"
    },
    "colab": {
      "name": "pokemon_dataset.ipynb",
      "provenance": [],
      "toc_visible": true
    }
  },
  "cells": [
    {
      "cell_type": "code",
      "metadata": {
        "id": "qShWCYhaWHQx",
        "colab_type": "code",
        "outputId": "27b02bfd-0c23-4caa-86a8-0f3cc354b239",
        "colab": {
          "base_uri": "https://localhost:8080/",
          "height": 204
        }
      },
      "source": [
        "!git clone https://github.com/kkahloots/Generative_Models.git # this is for loading git with correct brach\n",
        "%cd /content/Generative_Models/\n",
        "!git checkout lmdb"
      ],
      "execution_count": 0,
      "outputs": [
        {
          "output_type": "stream",
          "text": [
            "Cloning into 'Generative_Models'...\n",
            "remote: Enumerating objects: 2077, done.\u001b[K\n",
            "remote: Counting objects: 100% (2077/2077), done.\u001b[K\n",
            "remote: Compressing objects: 100% (592/592), done.\u001b[K\n",
            "remote: Total 14901 (delta 1504), reused 1906 (delta 1367), pack-reused 12824\u001b[K\n",
            "Receiving objects: 100% (14901/14901), 414.67 MiB | 36.14 MiB/s, done.\n",
            "Resolving deltas: 100% (10105/10105), done.\n",
            "Checking out files: 100% (1675/1675), done.\n",
            "/content/Generative_Models\n",
            "Branch 'lmdb' set up to track remote branch 'lmdb' from 'origin'.\n",
            "Switched to a new branch 'lmdb'\n"
          ],
          "name": "stdout"
        }
      ]
    },
    {
      "cell_type": "code",
      "metadata": {
        "scrolled": true,
        "id": "jpKbF1EVV7Nj",
        "colab_type": "code",
        "outputId": "5f41a477-69b4-4a36-96a3-0b63eef448bc",
        "colab": {
          "base_uri": "https://localhost:8080/",
          "height": 34
        }
      },
      "source": [
        "!pip -q install keras\n",
        "!pip -q install colorlog\n",
        "!pip -q install keras-radam"
      ],
      "execution_count": 0,
      "outputs": [
        {
          "output_type": "stream",
          "text": [
            "  Building wheel for keras-radam (setup.py) ... \u001b[?25l\u001b[?25hdone\n"
          ],
          "name": "stdout"
        }
      ]
    },
    {
      "cell_type": "markdown",
      "metadata": {
        "id": "qoM0qyPgV7No",
        "colab_type": "text"
      },
      "source": [
        "# Settings"
      ]
    },
    {
      "cell_type": "code",
      "metadata": {
        "id": "_b8FsM-KV7Np",
        "colab_type": "code",
        "outputId": "ff96b2f2-0bd9-4b68-eb95-85cc227e5c7e",
        "colab": {
          "base_uri": "https://localhost:8080/",
          "height": 51
        }
      },
      "source": [
        "%env TF_KERAS = 1\n",
        "import os\n",
        "sep_local = os.path.sep\n",
        "\n",
        "import sys\n",
        "print(sep_local)"
      ],
      "execution_count": 0,
      "outputs": [
        {
          "output_type": "stream",
          "text": [
            "env: TF_KERAS=1\n",
            "/\n"
          ],
          "name": "stdout"
        }
      ]
    },
    {
      "cell_type": "code",
      "metadata": {
        "id": "GYkS6uXLV7Nt",
        "colab_type": "code",
        "outputId": "6d3ed77a-eef8-4fbf-c778-46406a70758a",
        "colab": {
          "base_uri": "https://localhost:8080/",
          "height": 34
        }
      },
      "source": [
        "import tensorflow as tf\n",
        "print(tf.__version__)"
      ],
      "execution_count": 0,
      "outputs": [
        {
          "output_type": "stream",
          "text": [
            "2.2.0\n"
          ],
          "name": "stdout"
        }
      ]
    },
    {
      "cell_type": "code",
      "metadata": {
        "id": "PmZXJ3CuV7Nw",
        "colab_type": "code",
        "outputId": "c59e709c-f102-4b0f-d99b-04ed8cd9296d",
        "colab": {
          "base_uri": "https://localhost:8080/",
          "height": 34
        }
      },
      "source": [
        "os.chdir('/content/Generative_Models/')\n",
        "print(os.getcwd())"
      ],
      "execution_count": 0,
      "outputs": [
        {
          "output_type": "stream",
          "text": [
            "/content/Generative_Models\n"
          ],
          "name": "stdout"
        }
      ]
    },
    {
      "cell_type": "markdown",
      "metadata": {
        "id": "OiXeRLQ6V7Nz",
        "colab_type": "text"
      },
      "source": [
        "# Dataset loading"
      ]
    },
    {
      "cell_type": "code",
      "metadata": {
        "id": "Du4xX-ROV7N0",
        "colab_type": "code",
        "colab": {}
      },
      "source": [
        "dataset_name='pokemon'"
      ],
      "execution_count": 0,
      "outputs": []
    },
    {
      "cell_type": "code",
      "metadata": {
        "id": "J1WFTkEWV7N4",
        "colab_type": "code",
        "colab": {}
      },
      "source": [
        "images_dir = '/content/Generative_Models/data/.pokemon/'\n",
        "validation_percentage = 0\n",
        "valid_format = 'png'"
      ],
      "execution_count": 0,
      "outputs": []
    },
    {
      "cell_type": "code",
      "metadata": {
        "scrolled": true,
        "id": "ToDH6SfQV7N6",
        "colab_type": "code",
        "outputId": "f2e7b7e1-6db9-449d-a0ad-15753520cf83",
        "colab": {
          "base_uri": "https://localhost:8080/",
          "height": 34
        }
      },
      "source": [
        "from training.generators.file_image_generator import create_image_lists, get_generators"
      ],
      "execution_count": 0,
      "outputs": [
        {
          "output_type": "stream",
          "text": [
            "Using TensorFlow backend.\n"
          ],
          "name": "stderr"
        }
      ]
    },
    {
      "cell_type": "code",
      "metadata": {
        "id": "8cPsCGyIXL1f",
        "colab_type": "code",
        "outputId": "5b43c438-86b5-432b-90ef-70d749ce48c2",
        "colab": {
          "base_uri": "https://localhost:8080/",
          "height": 85
        }
      },
      "source": [
        "!ls -la /content/Generative_Models/data/.pokemon"
      ],
      "execution_count": 0,
      "outputs": [
        {
          "output_type": "stream",
          "text": [
            "total 28\n",
            "drwxr-xr-x 3 root root  4096 Jun 14 12:09 .\n",
            "drwxr-xr-x 6 root root  4096 Jun 14 12:09 ..\n",
            "drwxr-xr-x 2 root root 20480 Jun 14 12:09 DS06\n"
          ],
          "name": "stdout"
        }
      ]
    },
    {
      "cell_type": "code",
      "metadata": {
        "id": "H9r17PIDV7OA",
        "colab_type": "code",
        "outputId": "0c43050e-20ca-4714-ef2b-460129bcc5dc",
        "colab": {
          "base_uri": "https://localhost:8080/",
          "height": 85
        }
      },
      "source": [
        "imgs_list = create_image_lists(\n",
        "    image_dir=images_dir, \n",
        "    validation_pct=validation_percentage, \n",
        "    valid_imgae_formats=valid_format,\n",
        "    verbose = 1\n",
        ")"
      ],
      "execution_count": 0,
      "outputs": [
        {
          "output_type": "stream",
          "text": [
            "  \u001b[37mDEBUG   \u001b[0m | \u001b[37mLooking for images in 'DS06'\u001b[0m\n",
            "  \u001b[32mINFO    \u001b[0m | \u001b[32m809 file found\u001b[0m\n"
          ],
          "name": "stderr"
        },
        {
          "output_type": "stream",
          "text": [
            "\n",
            "\n"
          ],
          "name": "stdout"
        }
      ]
    },
    {
      "cell_type": "code",
      "metadata": {
        "scrolled": true,
        "id": "xyXmrZlvV7OC",
        "colab_type": "code",
        "colab": {}
      },
      "source": [
        "import numpy as np\n",
        "import lmdb\n",
        "from keras.preprocessing.image import Iterator, load_img, img_to_array, array_to_img"
      ],
      "execution_count": 0,
      "outputs": []
    },
    {
      "cell_type": "code",
      "metadata": {
        "id": "Rczoyv-mV7OF",
        "colab_type": "code",
        "colab": {}
      },
      "source": [
        "from utils.data_and_files.file_utils import get_file_path"
      ],
      "execution_count": 0,
      "outputs": []
    },
    {
      "cell_type": "code",
      "metadata": {
        "id": "yUDiMvlmV7OI",
        "colab_type": "code",
        "colab": {}
      },
      "source": [
        "def store_lmdb(\n",
        "             lmdb_name,\n",
        "             image_lists,\n",
        "             category, \n",
        "             image_dir,\n",
        "             target_size=None,\n",
        "             color_mode='rgb',\n",
        "             save_to_dir=None,\n",
        "             save_prefix='',\n",
        "             save_format='png'\n",
        "):\n",
        "\n",
        "    classes = list(image_lists.keys())\n",
        "    num_class = len(classes)\n",
        "\n",
        "    class2id = dict(zip(classes, range(len(classes))))\n",
        "    id2class = dict((v, k) for k, v in class2id.items())\n",
        "\n",
        "    if color_mode not in {'rgb', 'grayscale'}:\n",
        "        raise ValueError('Invalid color mode:', color_mode, '; expected \"rgb\" or \"grayscale\".')\n",
        "\n",
        "    lmdb_env = lmdb.open(lmdb_name)\n",
        "    # lmdb_db = lmdb_env.begin(write=True)\n",
        "    # print(classes)\n",
        "    with lmdb_env.begin(write=True) as lmdb_db:\n",
        "      for label_name in classes:\n",
        "          for j, _ in enumerate(image_lists[label_name][category]):\n",
        "              img_path = get_file_path(image_lists,\n",
        "                                        label_name,\n",
        "                                        j,\n",
        "                                        image_dir,\n",
        "                                        category)\n",
        "              img = img_to_array(\n",
        "                              load_img(\n",
        "                              img_path,\n",
        "                              grayscale=color_mode=='grayscale',\n",
        "                              target_size=target_size\n",
        "                              )\n",
        "                          )\n",
        "              lmdb_db.put(label_name.encode(), img, append=True, overwrite=False)      \n",
        "    lmdb_env.close()"
      ],
      "execution_count": 0,
      "outputs": []
    },
    {
      "cell_type": "code",
      "metadata": {
        "id": "mcCwKY2uV7OM",
        "colab_type": "code",
        "colab": {}
      },
      "source": [
        "store_lmdb(lmdb_name='pokemon2', image_lists=imgs_list, category='training', image_dir=images_dir)"
      ],
      "execution_count": 0,
      "outputs": []
    },
    {
      "cell_type": "code",
      "metadata": {
        "id": "psebCwrqV7OO",
        "colab_type": "code",
        "outputId": "0042e5e5-9bb5-4be4-e9da-0e2d44c52118",
        "colab": {
          "base_uri": "https://localhost:8080/",
          "height": 187
        }
      },
      "source": [
        "lmdb_env = lmdb.open('pokemon2')\n",
        "with lmdb_env.begin() as lmdb_txn:\n",
        "    with lmdb_txn.cursor() as lmdb_cursor:\n",
        "        for key, value in lmdb_cursor:  \n",
        "           print (key)\n",
        "           print (value)"
      ],
      "execution_count": 0,
      "outputs": [
        {
          "output_type": "stream",
          "text": [
            "IOPub data rate exceeded.\n",
            "The notebook server will temporarily stop sending output\n",
            "to the client in order to avoid crashing it.\n",
            "To change this limit, set the config variable\n",
            "`--NotebookApp.iopub_data_rate_limit`.\n",
            "\n",
            "Current values:\n",
            "NotebookApp.iopub_data_rate_limit=1000000.0 (bytes/sec)\n",
            "NotebookApp.rate_limit_window=3.0 (secs)\n",
            "\n"
          ],
          "name": "stderr"
        }
      ]
    },
    {
      "cell_type": "code",
      "metadata": {
        "id": "cj3rJJBoV7OU",
        "colab_type": "code",
        "outputId": "84191953-d4e3-405d-9c12-3bb91a8ce0b7",
        "colab": {
          "base_uri": "https://localhost:8080/",
          "height": 180
        }
      },
      "source": [
        "keys = [key for key, _ in lmdb_db.cursor() ]\n",
        "values = [value for _, value in lmdb_db.cursor() ]"
      ],
      "execution_count": 0,
      "outputs": [
        {
          "output_type": "error",
          "ename": "NameError",
          "evalue": "ignored",
          "traceback": [
            "\u001b[0;31m---------------------------------------------------------------------------\u001b[0m",
            "\u001b[0;31mNameError\u001b[0m                                 Traceback (most recent call last)",
            "\u001b[0;32m<ipython-input-16-7c762a5c96e6>\u001b[0m in \u001b[0;36m<module>\u001b[0;34m()\u001b[0m\n\u001b[0;32m----> 1\u001b[0;31m \u001b[0mkeys\u001b[0m \u001b[0;34m=\u001b[0m \u001b[0;34m[\u001b[0m\u001b[0mkey\u001b[0m \u001b[0;32mfor\u001b[0m \u001b[0mkey\u001b[0m\u001b[0;34m,\u001b[0m \u001b[0m_\u001b[0m \u001b[0;32min\u001b[0m \u001b[0mlmdb_db\u001b[0m\u001b[0;34m.\u001b[0m\u001b[0mcursor\u001b[0m\u001b[0;34m(\u001b[0m\u001b[0;34m)\u001b[0m \u001b[0;34m]\u001b[0m\u001b[0;34m\u001b[0m\u001b[0;34m\u001b[0m\u001b[0m\n\u001b[0m\u001b[1;32m      2\u001b[0m \u001b[0mvalues\u001b[0m \u001b[0;34m=\u001b[0m \u001b[0;34m[\u001b[0m\u001b[0mvalue\u001b[0m \u001b[0;32mfor\u001b[0m \u001b[0m_\u001b[0m\u001b[0;34m,\u001b[0m \u001b[0mvalue\u001b[0m \u001b[0;32min\u001b[0m \u001b[0mlmdb_db\u001b[0m\u001b[0;34m.\u001b[0m\u001b[0mcursor\u001b[0m\u001b[0;34m(\u001b[0m\u001b[0;34m)\u001b[0m \u001b[0;34m]\u001b[0m\u001b[0;34m\u001b[0m\u001b[0;34m\u001b[0m\u001b[0m\n",
            "\u001b[0;31mNameError\u001b[0m: name 'lmdb_db' is not defined"
          ]
        }
      ]
    },
    {
      "cell_type": "code",
      "metadata": {
        "id": "SXuxj38fnoX8",
        "colab_type": "code",
        "colab": {}
      },
      "source": [
        "print(np.fromstring(values))"
      ],
      "execution_count": 0,
      "outputs": []
    },
    {
      "cell_type": "code",
      "metadata": {
        "id": "f7vkfj8WaqRr",
        "colab_type": "code",
        "colab": {}
      },
      "source": [
        "import numpy as np\n",
        "import lmdb\n",
        "\n",
        "def write_lmdb(filename):\n",
        "    print ('Write lmdb')\n",
        "\n",
        "    lmdb_env = lmdb.open(filename, map_size=int(1e9))\n",
        "\n",
        "    n_samples= 2\n",
        "    X= (255*np.random.rand(n_samples,3,4,3)).astype(np.uint8)\n",
        "    y= np.random.rand(n_samples).astype(np.float32)\n",
        "\n",
        "    for i in range(n_samples):\n",
        "        with lmdb_env.begin(write=True) as lmdb_txn:\n",
        "            lmdb_txn.put('X_'+str(i), X)\n",
        "            lmdb_txn.put('y_'+str(i), y)\n",
        "\n",
        "            print ('X:',X)\n",
        "            print ('y:',y)\n",
        "\n",
        "def read_lmdb(filename):\n",
        "    print ('Read lmdb')\n",
        "\n",
        "    lmdb_env = lmdb.open(filename)\n",
        "    lmdb_txn = lmdb_env.begin()\n",
        "    lmdb_cursor = lmdb_txn.cursor()\n",
        "\n",
        "    n_samples=0\n",
        "    with lmdb_env.begin() as lmdb_txn:\n",
        "        with lmdb_txn.cursor() as lmdb_cursor:\n",
        "            for key, value in lmdb_cursor:  \n",
        "                print (key)\n",
        "                if('X' in key):\n",
        "                    print (np.fromstring(value, dtype=np.uint8))\n",
        "                if('y' in key):\n",
        "                    print (np.fromstring(value, dtype=np.float32))\n",
        "\n",
        "                n_samples=n_samples+1\n",
        "\n",
        "    print ('n_samples',n_samples)\n",
        "\n",
        "write_lmdb('temp.db')\n",
        "read_lmdb('temp.db')"
      ],
      "execution_count": 0,
      "outputs": []
    },
    {
      "cell_type": "code",
      "metadata": {
        "id": "rNX5NIC1vmIc",
        "colab_type": "code",
        "colab": {}
      },
      "source": [
        ""
      ],
      "execution_count": 0,
      "outputs": []
    }
  ]
}